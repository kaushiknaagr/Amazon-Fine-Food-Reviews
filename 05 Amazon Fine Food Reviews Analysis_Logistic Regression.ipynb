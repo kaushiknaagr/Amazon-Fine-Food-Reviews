{
 "cells": [
  {
   "cell_type": "markdown",
   "metadata": {
    "colab_type": "text",
    "id": "UIn1GsFNJkjH"
   },
   "source": [
    "# Amazon Fine Food Reviews Analysis\n",
    "\n",
    "\n",
    "Data Source: https://www.kaggle.com/snap/amazon-fine-food-reviews <br>\n",
    "\n",
    "EDA: https://nycdatascience.com/blog/student-works/amazon-fine-foods-visualization/\n",
    "\n",
    "\n",
    "The Amazon Fine Food Reviews dataset consists of reviews of fine foods from Amazon.<br>\n",
    "\n",
    "Number of reviews: 568,454<br>\n",
    "Number of users: 256,059<br>\n",
    "Number of products: 74,258<br>\n",
    "Timespan: Oct 1999 - Oct 2012<br>\n",
    "Number of Attributes/Columns in data: 10 \n",
    "\n",
    "Attribute Information:\n",
    "\n",
    "1. Id\n",
    "2. ProductId - unique identifier for the product\n",
    "3. UserId - unqiue identifier for the user\n",
    "4. ProfileName\n",
    "5. HelpfulnessNumerator - number of users who found the review helpful\n",
    "6. HelpfulnessDenominator - number of users who indicated whether they found the review helpful or not\n",
    "7. Score - rating between 1 and 5\n",
    "8. Time - timestamp for the review\n",
    "9. Summary - brief summary of the review\n",
    "10. Text - text of the review\n",
    "\n",
    "\n",
    "#### Objective:\n",
    "Given a review, determine whether the review is positive (rating of 4 or 5) or negative (rating of 1 or 2).\n",
    "\n",
    "<br>\n",
    "[Q] How to determine if a review is positive or negative?<br>\n",
    "<br> \n",
    "[Ans] We could use Score/Rating. A rating of 4 or 5 can be cosnidered as a positive review. A rating of 1 or 2 can be considered as negative one. A review of rating 3 is considered nuetral and such reviews are ignored from our analysis. This is an approximate and proxy way of determining the polarity (positivity/negativity) of a review.\n",
    "\n",
    "\n"
   ]
  },
  {
   "cell_type": "code",
   "execution_count": 375,
   "metadata": {
    "colab": {},
    "colab_type": "code",
    "id": "dLYq3BkfJkjL"
   },
   "outputs": [
    {
     "name": "stderr",
     "output_type": "stream",
     "text": [
      "[nltk_data] Downloading package stopwords to\n",
      "[nltk_data]     /home/kaushiknaagr/nltk_data...\n",
      "[nltk_data]   Package stopwords is already up-to-date!\n"
     ]
    }
   ],
   "source": [
    "#Amazon Fine Food Reviews \n",
    "#Packages used \n",
    "\n",
    "import warnings\n",
    "warnings.filterwarnings(\"ignore\")\n",
    "import sqlite3\n",
    "import pandas as pd\n",
    "import numpy as np\n",
    "import matplotlib.pyplot as plt\n",
    "import seaborn as sns\n",
    "import nltk\n",
    "nltk.download('stopwords')\n",
    "import string \n",
    "from sklearn.preprocessing import normalize\n",
    "from scipy.sparse import hstack\n",
    "from scipy.sparse import csr_matrix\n",
    "import re\n",
    "\n",
    "\n",
    "#Modules which are to be imported from sklearn.feature_extraction.text\n",
    "\n",
    "from sklearn.feature_extraction.text import TfidfTransformer\n",
    "from sklearn.feature_extraction.text import TfidfVectorizer\n",
    "from sklearn.feature_extraction.text import CountVectorizer\n",
    "\n",
    "#Modules which are to be imported from sklearn.metrics\n",
    "\n",
    "from sklearn.metrics import confusion_matrix\n",
    "from sklearn.metrics import roc_curve, auc\n",
    "from sklearn import metrics\n",
    "\n",
    "#Modules which are to be imported from nltk\n",
    "\n",
    "from nltk.stem.porter import PorterStemmer\n",
    "from nltk.corpus import stopwords\n",
    "\n",
    "\n",
    "import pickle\n",
    "from prettytable import PrettyTable\n",
    "from tqdm import tqdm\n",
    "import os"
   ]
  },
  {
   "cell_type": "markdown",
   "metadata": {},
   "source": [
    "## Loading the data\n",
    "\n",
    "The dataset is available in two forms\n",
    "1. .csv file\n",
    "2. SQLite Database\n",
    "\n",
    "In order to load the data, We have used the SQLITE dataset as it is easier to query the data and visualise the data efficiently.\n",
    "<br> \n",
    "\n",
    "Here as we only want to get the global sentiment of the recommendations (positive or negative), we will purposefully ignore all Scores equal to 3. If the score is above 3, then the recommendation wil be set to \"positive\". Otherwise, it will be set to \"negative\"."
   ]
  },
  {
   "cell_type": "code",
   "execution_count": 376,
   "metadata": {
    "colab": {},
    "colab_type": "code",
    "id": "rXVxnx_NJkjO",
    "outputId": "98628980-4d6e-4c53-913f-2d207932d2d0"
   },
   "outputs": [
    {
     "data": {
      "text/plain": [
       "(525814, 10)"
      ]
     },
     "execution_count": 376,
     "metadata": {},
     "output_type": "execute_result"
    }
   ],
   "source": [
    "#Open an connection to the DB from python\n",
    "\n",
    "con = sqlite3.connect('database.sqlite')\n",
    "\n",
    "# filtering only positive and negative reviews i.e. \n",
    "# not taking into consideration those reviews with Score=3\n",
    "# SELECT * FROM Reviews WHERE Score != 3 LIMIT 500000, will give top 500000 data points\n",
    "# you can change the number to any other number based on your computing power\n",
    "\n",
    "# filtered_data = pd.read_sql_query(\"\"\" SELECT * FROM Reviews WHERE Score != 3 LIMIT 500000\"\"\", con) \n",
    "# for tsne assignment you can take 5k data points\n",
    "\n",
    "filtered_data=pd.read_sql_query('''\n",
    "SELECT * from \n",
    "Reviews\n",
    "WHERE Score!=3\n",
    "'''\n",
    ",con\n",
    ")\n",
    "\n",
    "# Give reviews with Score>3 a positive rating(1), and reviews with a score<3 a negative rating(0).\n",
    "# Function to map the scores with values of 4 and 5 to Positive and 1 and 2 to negative \n",
    "\n",
    "def partioner(x):\n",
    "    if x<3:\n",
    "        return 0\n",
    "    else:\n",
    "        return 1\n",
    "    \n",
    "filter_score=filtered_data['Score']\n",
    "filter_score=filter_score.map(partioner)\n",
    "filtered_data['Score']=filter_score\n",
    "\n",
    "filtered_data.shape"
   ]
  },
  {
   "cell_type": "markdown",
   "metadata": {},
   "source": [
    "##  Exploratory Data Analysis"
   ]
  },
  {
   "cell_type": "code",
   "execution_count": 377,
   "metadata": {},
   "outputs": [
    {
     "name": "stdout",
     "output_type": "stream",
     "text": [
      "(525814, 10)\n",
      "(364173, 10)\n",
      "1    307061\n",
      "0     57110\n",
      "Name: Score, dtype: int64\n",
      "(100000, 10)\n"
     ]
    }
   ],
   "source": [
    "#Sort data in ascending order based on the values of ProductId Column\n",
    "\n",
    "sort_data=filtered_data.sort_values('ProductId',axis=0,ascending=True)\n",
    "\n",
    "print(sort_data.shape)\n",
    "\n",
    "#Remove the duplicates from the sorted data set \n",
    "\n",
    "sort_data=sort_data.drop_duplicates(subset=('UserId','ProfileName','Time','Text'),keep='first',inplace=False)\n",
    "\n",
    "print(sort_data.shape)\n",
    "\n",
    "sort_data=sort_data[sort_data['HelpfulnessNumerator']<=sort_data['HelpfulnessDenominator']]\n",
    "\n",
    "\n",
    "print(sort_data['Score'].value_counts())\n",
    "\n",
    "#Select top 100k points based on timebased sampling\n",
    "\n",
    "sort_data=sort_data.sort_values('Time',axis=0,ascending=True)\n",
    "\n",
    "sort_data=sort_data.head(100000)\n",
    "\n",
    "print(sort_data.shape)\n",
    "\n",
    "train=sort_data.iloc[0:60000]\n",
    "\n",
    "cross_validation=sort_data.iloc[60000:80000]\n",
    "\n",
    "\n",
    "cross_validation['Score'].value_counts()\n",
    "\n",
    "test=sort_data.iloc[80000:100000]"
   ]
  },
  {
   "cell_type": "markdown",
   "metadata": {
    "colab_type": "text",
    "id": "zak5yP5zJkkt"
   },
   "source": [
    "## Text Preprocessing Reviews and Summary Fields\n"
   ]
  },
  {
   "cell_type": "code",
   "execution_count": 378,
   "metadata": {},
   "outputs": [],
   "source": [
    "stop = set(stopwords.words('english')) #set of stopwords\n",
    "sno = nltk.stem.SnowballStemmer('english') #initialising the snowball stemmer\n",
    "Non_stopWords=set(('not','very')) # remove not and very stop words from the stopwords list\n",
    "stop=stop-Non_stopWords\n",
    "\n",
    "\n",
    "def cleanhtml(sentence): #function to clean the word of any html-tags\n",
    "    cleanr = re.compile('<.*?>')\n",
    "    cleantext = re.sub(cleanr, ' ', sentence)\n",
    "    return cleantext\n",
    "def cleanpunc(sentence): #function to clean the word of any punctuation or special characters\n",
    "    cleaned = re.sub(r'[?|!|\\'|\"|#]',r'',sentence)\n",
    "    cleaned = re.sub(r'[.|,|)|(|\\|/]',r' ',cleaned)\n",
    "    return  cleaned"
   ]
  },
  {
   "cell_type": "code",
   "execution_count": 379,
   "metadata": {},
   "outputs": [],
   "source": [
    "#Code for implementing step-by-step the checks mentioned in the pre-processing phase\n",
    "# this code takes a while to run as it needs to run on 314k sentences.\n",
    "if not os.path.isfile('train.sqlite'):\n",
    "    final_string=[]\n",
    "    all_positive_words=[] # store words from +ve reviews here\n",
    "    all_negative_words=[] # store words from -ve reviews here.\n",
    "    for i, sent in enumerate(tqdm(train['Text'].values)):\n",
    "        filtered_sentence=[]\n",
    "        #print(sent);\n",
    "        sent=cleanhtml(sent) # remove HTMl tags\n",
    "        for w in sent.split():\n",
    "            # we have used cleanpunc(w).split(), one more split function here because consider w=\"abc.def\", cleanpunc(w) will return \"abc def\"\n",
    "            # if we dont use .split() function then we will be considring \"abc def\" as a single word, but if you use .split() function we will get \"abc\", \"def\"\n",
    "            for cleaned_words in cleanpunc(w).split():\n",
    "                if((cleaned_words.isalpha()) & (len(cleaned_words)>2)):    \n",
    "                    if(cleaned_words.lower() not in stop):\n",
    "                        s=(sno.stem(cleaned_words.lower())).encode('utf8')\n",
    "                        filtered_sentence.append(s)\n",
    "                        if (train['Score'].values)[i] == 1: \n",
    "                            all_positive_words.append(s) #list of all words used to describe positive reviews\n",
    "                        if(train['Score'].values)[i] == 0:\n",
    "                            all_negative_words.append(s) #list of all words used to describe negative reviews reviews\n",
    "        str1 = b\" \".join(filtered_sentence) #final string of cleaned words\n",
    "        #print(\"***********************************************************************\")\n",
    "        final_string.append(str1)\n",
    "        \n",
    "    final_string_summary=[]\n",
    "    all_positive_words_sumamry=[] # store words from +ve reviews here\n",
    "    all_negative_words_summary=[] # store words from -ve reviews here.\n",
    "    for i, sent in enumerate(tqdm(train['Summary'].values)):\n",
    "        filtered_sentence_summary=[]\n",
    "        #print(sent);\n",
    "        sent=cleanhtml(sent) # remove HTMl tags\n",
    "        for w in sent.split():\n",
    "            # we have used cleanpunc(w).split(), one more split function here because consider w=\"abc.def\", cleanpunc(w) will return \"abc def\"\n",
    "            # if we dont use .split() function then we will be considring \"abc def\" as a single word, but if you use .split() function we will get \"abc\", \"def\"\n",
    "            for cleaned_words in cleanpunc(w).split():\n",
    "                if((cleaned_words.isalpha()) & (len(cleaned_words)>2)):    \n",
    "                    if(cleaned_words.lower() not in stop):\n",
    "                        s=(sno.stem(cleaned_words.lower())).encode('utf8')\n",
    "                        filtered_sentence_summary.append(s)\n",
    "                        if (train['Score'].values)[i] == 1: \n",
    "                            all_positive_words_sumamry.append(s) #list of all words used to describe positive reviews\n",
    "                        if(train['Score'].values)[i] == 0:\n",
    "                            all_negative_words_summary.append(s) #list of all words used to describe negative reviews reviews\n",
    "        str1 = b\" \".join(filtered_sentence_summary) #final string of cleaned words\n",
    "        #print(\"***********************************************************************\")\n",
    "        final_string_summary.append(str1)    \n",
    "\n",
    "    #############---- storing the data into .sqlite file ------########################\n",
    "    train['CleanedText']=final_string #adding a column of CleanedText which displays the data after pre-processing of the review \n",
    "    train['CleanedText']=train['CleanedText'].str.decode(\"utf-8\")\n",
    "    train['CleanedSummaryText']=final_string_summary #adding a column of CleanedText which displays the data after pre-processing of the review \n",
    "    train['CleanedSummaryText']=train['CleanedSummaryText'].str.decode(\"utf-8\")\n",
    "        # store final table into an SQlLite table for future.\n",
    "    conn = sqlite3.connect('train.sqlite')\n",
    "    c=conn.cursor()\n",
    "    conn.text_factory = str\n",
    "    train.to_sql('Reviews', conn,  schema=None, if_exists='replace', \\\n",
    "                 index=True, index_label=None, chunksize=None, dtype=None)\n",
    "    conn.close()\n",
    "    \n",
    "    with open('positive_words_train_summary.pkl', 'wb') as f:\n",
    "        pickle.dump(all_positive_words_sumamry, f)\n",
    "    with open('negitive_words_train_summary.pkl', 'wb') as f:\n",
    "        pickle.dump(all_negative_words_summary, f)\n",
    "    with open('positive_words_train.pkl', 'wb') as f:\n",
    "        pickle.dump(all_positive_words, f)\n",
    "    with open('negitive_words_train.pkl', 'wb') as f:\n",
    "        pickle.dump(all_negative_words, f)"
   ]
  },
  {
   "cell_type": "code",
   "execution_count": 380,
   "metadata": {},
   "outputs": [],
   "source": [
    "#Code for implementing step-by-step the checks mentioned in the pre-processing phase\n",
    "# this code takes a while to run as it needs to run on 314k sentences.\n",
    "if not os.path.isfile('cross_validation.sqlite'):\n",
    "    final_string=[]\n",
    "    all_positive_words=[] # store words from +ve reviews here\n",
    "    all_negative_words=[] # store words from -ve reviews here.\n",
    "    for i, sent in enumerate(tqdm(cross_validation['Text'].values)):\n",
    "        filtered_sentence=[]\n",
    "        #print(sent);\n",
    "        sent=cleanhtml(sent) # remove HTMl tags\n",
    "        for w in sent.split():\n",
    "            # we have used cleanpunc(w).split(), one more split function here because consider w=\"abc.def\", cleanpunc(w) will return \"abc def\"\n",
    "            # if we dont use .split() function then we will be considring \"abc def\" as a single word, but if you use .split() function we will get \"abc\", \"def\"\n",
    "            for cleaned_words in cleanpunc(w).split():\n",
    "                if((cleaned_words.isalpha()) & (len(cleaned_words)>2)):    \n",
    "                    if(cleaned_words.lower() not in stop):\n",
    "                        s=(sno.stem(cleaned_words.lower())).encode('utf8')\n",
    "                        filtered_sentence.append(s)\n",
    "                        if (cross_validation['Score'].values)[i] == 1: \n",
    "                            all_positive_words.append(s) #list of all words used to describe positive reviews\n",
    "                        if(cross_validation['Score'].values)[i] == 0:\n",
    "                            all_negative_words.append(s) #list of all words used to describe negative reviews reviews\n",
    "        str1 = b\" \".join(filtered_sentence) #final string of cleaned words\n",
    "        #print(\"***********************************************************************\")\n",
    "        final_string.append(str1)\n",
    "    \n",
    "    final_string_summary=[]\n",
    "    all_positive_words_summary=[] # store words from +ve reviews here\n",
    "    all_negative_words_summary=[] # store words from -ve reviews here.\n",
    "    for i, sent in enumerate(tqdm(cross_validation['Summary'].values)):\n",
    "        filtered_sentence_summary=[]\n",
    "        #print(sent);\n",
    "        sent=cleanhtml(sent) # remove HTMl tags\n",
    "        for w in sent.split():\n",
    "            # we have used cleanpunc(w).split(), one more split function here because consider w=\"abc.def\", cleanpunc(w) will return \"abc def\"\n",
    "            # if we dont use .split() function then we will be considring \"abc def\" as a single word, but if you use .split() function we will get \"abc\", \"def\"\n",
    "            for cleaned_words in cleanpunc(w).split():\n",
    "                if((cleaned_words.isalpha()) & (len(cleaned_words)>2)):    \n",
    "                    if(cleaned_words.lower() not in stop):\n",
    "                        s=(sno.stem(cleaned_words.lower())).encode('utf8')\n",
    "                        filtered_sentence_summary.append(s)\n",
    "                        if (cross_validation['Score'].values)[i] == 1: \n",
    "                            all_positive_words_summary.append(s) #list of all words used to describe positive reviews\n",
    "                        if(cross_validation['Score'].values)[i] == 0:\n",
    "                            all_negative_words_summary.append(s) #list of all words used to describe negative reviews reviews\n",
    "        str1 = b\" \".join(filtered_sentence_summary) #final string of cleaned words\n",
    "        #print(\"***********************************************************************\")\n",
    "        final_string_summary.append(str1)    \n",
    "\n",
    "    #############---- storing the data into .sqlite file ------########################\n",
    "    cross_validation['CleanedText']=final_string #adding a column of CleanedText which displays the data after pre-processing of the review \n",
    "    cross_validation['CleanedText']=cross_validation['CleanedText'].str.decode(\"utf-8\")\n",
    "    cross_validation['CleanedSummaryText']=final_string_summary #adding a column of CleanedText which displays the data after pre-processing of the review \n",
    "    cross_validation['CleanedSummaryText']=cross_validation['CleanedSummaryText'].str.decode(\"utf-8\")\n",
    "    # store final table into an SQlLite table for future.\n",
    "    conn = sqlite3.connect('cross_validation.sqlite')\n",
    "    c=conn.cursor()\n",
    "    conn.text_factory = str\n",
    "    cross_validation.to_sql('Reviews', conn,  schema=None, if_exists='replace', \\\n",
    "                 index=True, index_label=None, chunksize=None, dtype=None)\n",
    "    conn.close()\n",
    "    \n",
    "    with open('positive_words_cross_validation.pkl', 'wb') as f:\n",
    "        pickle.dump(all_positive_words_summary, f)\n",
    "    with open('negitive_words_cross_validation.pkl', 'wb') as f:\n",
    "        pickle.dump(all_negative_words_summary, f)\n",
    "    with open('positive_words_cross_validation.pkl', 'wb') as f:\n",
    "        pickle.dump(all_positive_words, f)\n",
    "    with open('negitive_words_cross_validation.pkl', 'wb') as f:\n",
    "        pickle.dump(all_negative_words, f)"
   ]
  },
  {
   "cell_type": "code",
   "execution_count": 381,
   "metadata": {},
   "outputs": [],
   "source": [
    "#Code for implementing step-by-step the checks mentioned in the pre-processing phase\n",
    "# this code takes a while to run as it needs to run on 314k sentences.\n",
    "if not os.path.isfile('test.sqlite'):\n",
    "    final_string=[]\n",
    "    all_positive_words=[] # store words from +ve reviews here\n",
    "    all_negative_words=[] # store words from -ve reviews here.\n",
    "    for i, sent in enumerate(tqdm(test['Text'].values)):\n",
    "        filtered_sentence=[]\n",
    "        #print(sent);\n",
    "        sent=cleanhtml(sent) # remove HTMl tags\n",
    "        for w in sent.split():\n",
    "            # we have used cleanpunc(w).split(), one more split function here because consider w=\"abc.def\", cleanpunc(w) will return \"abc def\"\n",
    "            # if we dont use .split() function then we will be considring \"abc def\" as a single word, but if you use .split() function we will get \"abc\", \"def\"\n",
    "            for cleaned_words in cleanpunc(w).split():\n",
    "                if((cleaned_words.isalpha()) & (len(cleaned_words)>2)):    \n",
    "                    if(cleaned_words.lower() not in stop):\n",
    "                        s=(sno.stem(cleaned_words.lower())).encode('utf8')\n",
    "                        filtered_sentence.append(s)\n",
    "                        if (test['Score'].values)[i] == 1: \n",
    "                            all_positive_words.append(s) #list of all words used to describe positive reviews\n",
    "                        if(test['Score'].values)[i] == 0:\n",
    "                            all_negative_words.append(s) #list of all words used to describe negative reviews reviews\n",
    "        str1 = b\" \".join(filtered_sentence) #final string of cleaned words\n",
    "        #print(\"***********************************************************************\")\n",
    "        final_string.append(str1)\n",
    "    final_string_summary=[]\n",
    "    all_positive_words_summary=[] # store words from +ve reviews here\n",
    "    all_negative_words_summary=[] # store words from -ve reviews here.\n",
    "    for i, sent in enumerate(tqdm(test['Summary'].values)):\n",
    "        filtered_sentence_summary=[]\n",
    "        #print(sent);\n",
    "        sent=cleanhtml(sent) # remove HTMl tags\n",
    "        for w in sent.split():\n",
    "            # we have used cleanpunc(w).split(), one more split function here because consider w=\"abc.def\", cleanpunc(w) will return \"abc def\"\n",
    "            # if we dont use .split() function then we will be considring \"abc def\" as a single word, but if you use .split() function we will get \"abc\", \"def\"\n",
    "            for cleaned_words in cleanpunc(w).split():\n",
    "                if((cleaned_words.isalpha()) & (len(cleaned_words)>2)):    \n",
    "                    if(cleaned_words.lower() not in stop):\n",
    "                        s=(sno.stem(cleaned_words.lower())).encode('utf8')\n",
    "                        filtered_sentence_summary.append(s)\n",
    "                        if (test['Score'].values)[i] == 1: \n",
    "                            all_positive_words_summary.append(s) #list of all words used to describe positive reviews\n",
    "                        if(test['Score'].values)[i] == 0:\n",
    "                            all_negative_words_summary.append(s) #list of all words used to describe negative reviews reviews\n",
    "        str1 = b\" \".join(filtered_sentence_summary) #final string of cleaned words\n",
    "        #print(\"***********************************************************************\")\n",
    "        final_string_summary.append(str1)\n",
    "\n",
    "    #############---- storing the data into .sqlite file ------########################\n",
    "    test['CleanedText']=final_string #adding a column of CleanedText which displays the data after pre-processing of the review \n",
    "    test['CleanedText']=test['CleanedText'].str.decode(\"utf-8\")\n",
    "        # store final table into an SQlLite table for future.\n",
    "    test['CleanedSummaryText']=final_string_summary #adding a column of CleanedText which displays the data after pre-processing of the review \n",
    "    test['CleanedSummaryText']=test['CleanedSummaryText'].str.decode(\"utf-8\")\n",
    "        # store final table into an SQlLite table for future.\n",
    "    conn = sqlite3.connect('test.sqlite')\n",
    "    c=conn.cursor()\n",
    "    conn.text_factory = str\n",
    "    test.to_sql('Reviews', conn,  schema=None, if_exists='replace', \\\n",
    "                 index=True, index_label=None, chunksize=None, dtype=None)\n",
    "    conn.close()\n",
    "    \n",
    "    with open('positive_words_test_summary.pkl', 'wb') as f:\n",
    "        pickle.dump(all_positive_words_summary, f)\n",
    "    with open('negitive_words_cross_test_summary.pkl', 'wb') as f:\n",
    "        pickle.dump(all_negative_words_summary, f)\n",
    "    with open('positive_words_test.pkl', 'wb') as f:\n",
    "        pickle.dump(all_positive_words, f)\n",
    "    with open('negitive_words_cross_test.pkl', 'wb') as f:\n",
    "        pickle.dump(all_negative_words, f)"
   ]
  },
  {
   "cell_type": "markdown",
   "metadata": {},
   "source": [
    "# Featurization"
   ]
  },
  {
   "cell_type": "markdown",
   "metadata": {},
   "source": [
    "### BAG OF WORDS  for Summary Text"
   ]
  },
  {
   "cell_type": "code",
   "execution_count": 382,
   "metadata": {
    "colab": {},
    "colab_type": "code",
    "id": "wZ3Epk1wJkku"
   },
   "outputs": [],
   "source": [
    "if os.path.isfile('train.sqlite'):\n",
    "    conn = sqlite3.connect('train.sqlite')\n",
    "    final = pd.read_sql_query(\"\"\" SELECT * FROM Reviews WHERE Score != 3 \"\"\", conn)\n",
    "    conn.close()"
   ]
  },
  {
   "cell_type": "code",
   "execution_count": 383,
   "metadata": {},
   "outputs": [
    {
     "name": "stdout",
     "output_type": "stream",
     "text": [
      "the type of count vectorizer  <class 'scipy.sparse.csr.csr_matrix'>\n",
      "the shape of out text BOW vectorizer  (60000, 9357)\n",
      "the number of unique words  9357\n"
     ]
    }
   ],
   "source": [
    "#BoW on training Summary dataset\n",
    "count_vect_sum = CountVectorizer() #in scikit-learn\n",
    "final_counts_sum = count_vect_sum.fit_transform(final['CleanedSummaryText'].values)\n",
    "X_train_sum=final_counts_sum\n",
    "X_train_sum=normalize(X_train_sum, axis=1, norm='max')\n",
    "print(\"the type of count vectorizer \",type(X_train_sum))\n",
    "print(\"the shape of out text BOW vectorizer \",X_train_sum.get_shape())\n",
    "print(\"the number of unique words \", X_train_sum.get_shape()[1])"
   ]
  },
  {
   "cell_type": "code",
   "execution_count": 384,
   "metadata": {},
   "outputs": [],
   "source": [
    "if os.path.isfile('cross_validation.sqlite'):\n",
    "    conn = sqlite3.connect('cross_validation.sqlite')\n",
    "    final_cross_validation = pd.read_sql_query(\"\"\" SELECT * FROM Reviews WHERE Score != 3 \"\"\", conn)\n",
    "    conn.close()"
   ]
  },
  {
   "cell_type": "code",
   "execution_count": 385,
   "metadata": {},
   "outputs": [
    {
     "name": "stdout",
     "output_type": "stream",
     "text": [
      "the type of count vectorizer  <class 'scipy.sparse.csr.csr_matrix'>\n",
      "the shape of out text BOW vectorizer  (20000, 9357)\n",
      "the number of unique words  9357\n"
     ]
    }
   ],
   "source": [
    "#Bow on CV Summary dataset\n",
    "final_counts_cross_validation_sum = count_vect_sum.transform(final_cross_validation['CleanedSummaryText'].values)\n",
    "X_cv_sum=final_counts_cross_validation_sum\n",
    "X_cv_sum=normalize(X_cv_sum, axis=1, norm='max')\n",
    "print(\"the type of count vectorizer \",type(X_cv_sum))\n",
    "print(\"the shape of out text BOW vectorizer \",X_cv_sum.get_shape())\n",
    "print(\"the number of unique words \", X_cv_sum.get_shape()[1])"
   ]
  },
  {
   "cell_type": "code",
   "execution_count": 386,
   "metadata": {},
   "outputs": [],
   "source": [
    "if os.path.isfile('test.sqlite'):\n",
    "    conn = sqlite3.connect('test.sqlite')\n",
    "    test = pd.read_sql_query(\"\"\" SELECT * FROM Reviews WHERE Score != 3 \"\"\", conn)\n",
    "    conn.close()\n",
    "else:\n",
    "    print(\"Please the above cell\")"
   ]
  },
  {
   "cell_type": "code",
   "execution_count": 387,
   "metadata": {},
   "outputs": [
    {
     "name": "stdout",
     "output_type": "stream",
     "text": [
      "the type of count vectorizer  <class 'scipy.sparse.csr.csr_matrix'>\n",
      "the shape of out text BOW vectorizer  (20000, 9357)\n",
      "the number of unique words  9357\n"
     ]
    }
   ],
   "source": [
    "#Bow on Test Summary dataset\n",
    "test_count_sum = count_vect_sum.transform(test['CleanedSummaryText'].values)\n",
    "X_test_sum=test_count_sum\n",
    "X_test_sum=normalize(X_test_sum, axis=1, norm='max')\n",
    "print(\"the type of count vectorizer \",type(X_test_sum))\n",
    "print(\"the shape of out text BOW vectorizer \",X_test_sum.get_shape())\n",
    "print(\"the number of unique words \", X_test_sum.get_shape()[1])"
   ]
  },
  {
   "cell_type": "markdown",
   "metadata": {
    "colab_type": "text",
    "id": "qyWESNvzJkky"
   },
   "source": [
    "### BAG OF WORDS for Review Text"
   ]
  },
  {
   "cell_type": "code",
   "execution_count": 388,
   "metadata": {
    "colab": {},
    "colab_type": "code",
    "id": "zS0niozAJkkz",
    "outputId": "e2a25e5d-2e1a-497a-f094-a7e249201001"
   },
   "outputs": [],
   "source": [
    "if os.path.isfile('train.sqlite'):\n",
    "    conn = sqlite3.connect('train.sqlite')\n",
    "    final = pd.read_sql_query(\"\"\" SELECT * FROM Reviews WHERE Score != 3 \"\"\", conn)\n",
    "    conn.close()\n",
    "else:\n",
    "    print(\"Please the above cell\")"
   ]
  },
  {
   "cell_type": "code",
   "execution_count": 389,
   "metadata": {},
   "outputs": [
    {
     "name": "stdout",
     "output_type": "stream",
     "text": [
      "the type of count vectorizer  <class 'scipy.sparse.csr.csr_matrix'>\n",
      "the shape of out text BOW vectorizer  (60000, 29134)\n",
      "the type of count vectorizer  <class 'scipy.sparse.csr.csr_matrix'>\n",
      "the shape of out text BOW vectorizer  (60000, 38491)\n"
     ]
    }
   ],
   "source": [
    "#BoW on training dataset\n",
    "count_vect = CountVectorizer() #in scikit-learn\n",
    "final_counts = count_vect.fit_transform(final['CleanedText'].values)\n",
    "X_train=final_counts\n",
    "X_train=normalize(X_train, axis=1, norm='max')\n",
    "train_label=final['Score'].values\n",
    "print(\"the type of count vectorizer \",type(X_train))\n",
    "print(\"the shape of out text BOW vectorizer \",X_train.get_shape())\n",
    "X_train=hstack((X_train, X_train_sum))\n",
    "X_train =csr_matrix(X_train)\n",
    "print(\"the type of count vectorizer \",type(X_train))\n",
    "print(\"the shape of out text BOW vectorizer \",X_train.get_shape())"
   ]
  },
  {
   "cell_type": "code",
   "execution_count": 390,
   "metadata": {},
   "outputs": [],
   "source": [
    "if os.path.isfile('cross_validation.sqlite'):\n",
    "    conn = sqlite3.connect('cross_validation.sqlite')\n",
    "    final_cross_validation = pd.read_sql_query(\"\"\" SELECT * FROM Reviews WHERE Score != 3 \"\"\", conn)\n",
    "    conn.close()"
   ]
  },
  {
   "cell_type": "code",
   "execution_count": 391,
   "metadata": {},
   "outputs": [
    {
     "name": "stdout",
     "output_type": "stream",
     "text": [
      "the type of count vectorizer  <class 'scipy.sparse.csr.csr_matrix'>\n",
      "the shape of out text BOW vectorizer  (20000, 29134)\n",
      "the type of count vectorizer  <class 'scipy.sparse.csr.csr_matrix'>\n",
      "the shape of out text BOW vectorizer  (20000, 38491)\n"
     ]
    }
   ],
   "source": [
    "#Bow on CV dataset\n",
    "final_counts_cross_validation = count_vect.transform(final_cross_validation['CleanedText'].values)\n",
    "X_cv=final_counts_cross_validation\n",
    "X_cv=normalize(X_cv, axis=1, norm='max')\n",
    "cv_label=final_cross_validation['Score'].values\n",
    "print(\"the type of count vectorizer \",type(X_cv))\n",
    "print(\"the shape of out text BOW vectorizer \",X_cv.get_shape())\n",
    "X_cv=hstack((X_cv, X_cv_sum))\n",
    "X_cv =csr_matrix(X_cv)\n",
    "print(\"the type of count vectorizer \",type(X_cv))\n",
    "print(\"the shape of out text BOW vectorizer \",X_cv.get_shape())"
   ]
  },
  {
   "cell_type": "code",
   "execution_count": 392,
   "metadata": {},
   "outputs": [],
   "source": [
    "if os.path.isfile('test.sqlite'):\n",
    "    conn = sqlite3.connect('test.sqlite')\n",
    "    test = pd.read_sql_query(\"\"\" SELECT * FROM Reviews WHERE Score != 3 \"\"\", conn)\n",
    "    conn.close()\n",
    "else:\n",
    "    print(\"Please the above cell\")"
   ]
  },
  {
   "cell_type": "code",
   "execution_count": 393,
   "metadata": {},
   "outputs": [
    {
     "name": "stdout",
     "output_type": "stream",
     "text": [
      "the type of count vectorizer  <class 'scipy.sparse.csr.csr_matrix'>\n",
      "the shape of out text BOW vectorizer  (20000, 29134)\n",
      "the type of count vectorizer  <class 'scipy.sparse.csr.csr_matrix'>\n",
      "the shape of out text BOW vectorizer  (20000, 38491)\n"
     ]
    }
   ],
   "source": [
    "#Bow on Test dataset\n",
    "test_count = count_vect.transform(test['CleanedText'].values)\n",
    "X_test=test_count\n",
    "X_test=normalize(X_test, axis=1, norm='max')\n",
    "test_label=test['Score'].values\n",
    "print(\"the type of count vectorizer \",type(test_count))\n",
    "print(\"the shape of out text BOW vectorizer \",test_count.get_shape())\n",
    "X_test=hstack((X_test, X_test_sum))\n",
    "X_test =csr_matrix(X_test)\n",
    "print(\"the type of count vectorizer \",type(X_test))\n",
    "print(\"the shape of out text BOW vectorizer \",X_test.get_shape())"
   ]
  },
  {
   "cell_type": "markdown",
   "metadata": {
    "colab_type": "text",
    "id": "FxGKHpZlJkle"
   },
   "source": [
    "## Applying Logistic Regression Classifier on BOW"
   ]
  },
  {
   "cell_type": "code",
   "execution_count": 394,
   "metadata": {
    "colab": {},
    "colab_type": "code",
    "id": "UR0f8SfZJkle"
   },
   "outputs": [],
   "source": [
    "#import LogisticRegression\n",
    "from sklearn.linear_model import LogisticRegression\n",
    "from sklearn.metrics import roc_auc_score\n",
    "from sklearn.metrics import roc_curve\n",
    "from sklearn.metrics import confusion_matrix\n",
    "\n",
    "l=[10**-5,10**-4,10**-3,10**-2,10**-1,1,10**1,10**2,10**3,10**4,10**5]\n",
    "\n",
    "#Store Auc value for  train \n",
    "roc_val_cv_l1 = np.empty(len(l))\n",
    "\n",
    "roc_val_train_l1 = np.empty(len(l))\n",
    "\n",
    "#Store Auc value for  train \n",
    "roc_val_cv_l2 = np.empty(len(l))\n",
    "\n",
    "roc_val_train_l2 = np.empty(len(l))\n",
    "\n",
    "\n",
    "for i,k in enumerate((l)):\n",
    "    #Setup a Logistice Regression Classifier for L1 nd L2 Regulizer\n",
    "    model_l1 = LogisticRegression(penalty='l1',C=k,class_weight='balanced')\n",
    "    model_l2 = LogisticRegression(penalty='l2',C=k,class_weight='balanced')\n",
    "    \n",
    "    #Store the predicted class labels for Train data\n",
    "    y_pred_train_l1 = []\n",
    "    y_pred_proba_train_l1=[]\n",
    "    #Store the predicted class labels for Train data\n",
    "    y_pred_train_l2 = []\n",
    "    y_pred_proba_train_l2=[]\n",
    "    \n",
    "    #Fit the model\n",
    "    model_l1.fit(X_train, train_label)\n",
    "    #Fit the model\n",
    "    model_l2.fit(X_train, train_label)\n",
    "    \n",
    "    #Predict the Class label in Train data\n",
    "    y_pred_train_l1=model_l1.predict(X_train)\n",
    "    #Predict the Class label in Train data\n",
    "    y_pred_train_l2=model_l2.predict(X_train)\n",
    "    \n",
    "    \n",
    "    #Compute the Prob Scores for ROC for Train\n",
    "    y_pred_proba_train_l1 = model_l1.predict_proba(X_train)[:,1]\n",
    "\n",
    "    roc_val_train_l1[i] = roc_auc_score(train_label,y_pred_proba_train_l1)\n",
    "    \n",
    "    #Compute the Prob Scores for ROC for Train\n",
    "    y_pred_proba_train_l2 = model_l2.predict_proba(X_train)[:,1]\n",
    "\n",
    "    roc_val_train_l2[i] = roc_auc_score(train_label,y_pred_proba_train_l2)"
   ]
  },
  {
   "cell_type": "code",
   "execution_count": 395,
   "metadata": {},
   "outputs": [],
   "source": [
    "#Performing Hyper parameter tuning for finding the best Lambda using simple cross validation.\n",
    "\n",
    "for i,k in enumerate((l)):\n",
    "    #Setup a Logistice Regression Classifier for L1 nd L2 Regulizer\n",
    "    model_l1 = LogisticRegression(penalty='l1',C=k,class_weight='balanced')\n",
    "    model_l2 = LogisticRegression(penalty='l2',C=k,class_weight='balanced')\n",
    "    \n",
    "    #Store the predicted class labels for CV\n",
    "    y_pred_cv_l1 = []\n",
    "    y_pred_proba_cv_l1=[]\n",
    "    y_pred_cv_l2 = []\n",
    "    y_pred_proba_cv_l2=[]\n",
    "    \n",
    "    #Fit the model\n",
    "    model_l1.fit(X_train, train_label)\n",
    "    model_l2.fit(X_train, train_label)\n",
    "    \n",
    "    #Predict the Class label in CV data\n",
    "    for d in range(0, 20000, 2000):\n",
    "        y_pred_cv_l1.extend(model_l1.predict(X_cv[d:d+2000]))\n",
    "        \n",
    "    for d in range(0, 20000, 2000):\n",
    "        y_pred_cv_l1.extend(model_l2.predict(X_cv[d:d+2000]))\n",
    "        \n",
    "    #Compute the Prob Scores for ROC for CV\n",
    "    y_pred_proba_cv_l1 = model_l1.predict_proba(X_cv)[:,1]\n",
    "    \n",
    "    roc_val_cv_l1[i] = roc_auc_score(cv_label,y_pred_proba_cv_l1)\n",
    "    \n",
    "    #Compute the Prob Scores for ROC for CV\n",
    "    y_pred_proba_cv_l2 = model_l2.predict_proba(X_cv)[:,1]\n",
    "    \n",
    "    roc_val_cv_l2[i] = roc_auc_score(cv_label,y_pred_proba_cv_l2)"
   ]
  },
  {
   "cell_type": "code",
   "execution_count": 396,
   "metadata": {},
   "outputs": [],
   "source": [
    "l1_log=[np.log(i) for i in l]\n",
    "\n",
    "l2_log=[np.log(i) for i in l]"
   ]
  },
  {
   "cell_type": "code",
   "execution_count": 397,
   "metadata": {},
   "outputs": [
    {
     "data": {
      "image/png": "[encoded data removed]",
      "text/plain": [
       "<Figure size 432x288 with 1 Axes>"
      ]
     },
     "metadata": {},
     "output_type": "display_data"
    }
   ],
   "source": [
    "#Elbow Plot for determining the optimal value of Lambda using L1 regulizer\n",
    "plt.title('Elbow Plot for determining the optimal value of Lamba using L1 Regulizer')\n",
    "plt.plot(l1_log, roc_val_cv_l1, label='Cross Validation AUC Score Curve')\n",
    "plt.plot(l1_log, roc_val_train_l1, label='Train AUC Score Curve')\n",
    "plt.legend()\n",
    "plt.xlabel('Varying values of Lambda')\n",
    "plt.ylabel('AUC Scores')\n",
    "plt.grid()\n",
    "plt.show()"
   ]
  },
  {
   "cell_type": "code",
   "execution_count": 398,
   "metadata": {},
   "outputs": [
    {
     "data": {
      "image/png": "[encoded data removed]",
      "text/plain": [
       "<Figure size 432x288 with 1 Axes>"
      ]
     },
     "metadata": {},
     "output_type": "display_data"
    }
   ],
   "source": [
    "#Elbow Plot for determining the optimal value of Lambda using L2 regulizer\n",
    "plt.title('Elbow Plot for determining the optimal value of Lamba using L2 Regulizer')\n",
    "plt.plot(l2_log, roc_val_cv_l2, label='Cross Validation AUC Score Curve')\n",
    "plt.plot(l2_log, roc_val_train_l2, label='Train AUC Score Curve')\n",
    "plt.legend()\n",
    "plt.xlabel('Varying values of Lambda Hyperparameter')\n",
    "plt.ylabel('AUC Scores')\n",
    "plt.grid()\n",
    "plt.show()"
   ]
  },
  {
   "cell_type": "markdown",
   "metadata": {},
   "source": [
    "### Fitting the Test Data using optimal lambda and applying Logistic Regression Classifier"
   ]
  },
  {
   "cell_type": "code",
   "execution_count": 399,
   "metadata": {},
   "outputs": [],
   "source": [
    "final_l1=np.exp(.1)\n",
    "final_l2=np.exp(2.5)"
   ]
  },
  {
   "cell_type": "code",
   "execution_count": 400,
   "metadata": {},
   "outputs": [
    {
     "data": {
      "image/png": "[encoded data removed]",
      "text/plain": [
       "<Figure size 432x288 with 1 Axes>"
      ]
     },
     "metadata": {},
     "output_type": "display_data"
    },
    {
     "name": "stdout",
     "output_type": "stream",
     "text": [
      " AUC value for Test Data for Optimal Lambda using L1 Regulizer is 0.9671022116862358\n",
      " AUC value for Training Data for Optimal Lambda using L1 Regulizer 0.9918947099225965\n"
     ]
    }
   ],
   "source": [
    "# Applying Optimal Value of Lambda obtained from simple cross validation on test data for L1 and L2 regulizer\n",
    "\n",
    "final_model_l1 = LogisticRegression(penalty='l1',C=final_l1,class_weight='balanced')\n",
    "final_model_l2 = LogisticRegression(penalty='l2',C=final_l2,class_weight='balanced')\n",
    "\n",
    "#Store the predicted class labels and prob scores for Test data\n",
    "y_pred_test_l1 = []\n",
    "y_pred_proba_test_l1=[]\n",
    "y_pred_train_l1 = []\n",
    "y_pred_proba_train_l1=[]\n",
    "y_pred_test_l2 = []\n",
    "y_pred_proba_test_l2=[]\n",
    "y_pred_train_l2 = []\n",
    "y_pred_proba_train_l2=[]\n",
    "    \n",
    "#Fit the model\n",
    "final_model_l1.fit(X_train, train_label)\n",
    "final_model_l2.fit(X_train, train_label)\n",
    "    \n",
    "#Predict the Class label in Test data\n",
    "for d in range(0, 20000, 2000):\n",
    "    y_pred_test_l1.extend(final_model_l1.predict(X_test[d:d+2000]))\n",
    "    \n",
    "#Compute the Prob Scores for ROC for Test\n",
    "y_pred_proba_test_l1 = final_model_l1.predict_proba(X_test)[:,1]\n",
    "\n",
    "#Predict the Class label in Test data\n",
    "for d in range(0, 20000, 2000):\n",
    "    y_pred_test_l2.extend(final_model_l2.predict(X_test[d:d+2000]))\n",
    "    \n",
    "#Compute the Prob Scores for ROC for Test\n",
    "y_pred_proba_test_l2 = final_model_l2.predict_proba(X_test)[:,1]\n",
    "\n",
    "fpr1_l1, tpr1_l1, thresholds = roc_curve(test_label,y_pred_proba_test_l1)\n",
    "roc_val_test_l1 = roc_auc_score(test_label,y_pred_proba_test_l1)\n",
    "\n",
    "fpr1_l2, tpr1_l2, thresholds = roc_curve(test_label,y_pred_proba_test_l2)\n",
    "roc_val_test_l2 = roc_auc_score(test_label,y_pred_proba_test_l2)\n",
    "\n",
    "\n",
    "#Predict the Class label in Train data\n",
    "y_pred_train_l1=final_model_l1.predict(X_train)\n",
    "y_pred_proba_train_l1=final_model_l1.predict_proba(X_train)[:,1]\n",
    "\n",
    "#Predict the Class label in Train data\n",
    "y_pred_train_l2=final_model_l2.predict(X_train)\n",
    "y_pred_proba_train_l2=final_model_l2.predict_proba(X_train)[:,1]\n",
    "\n",
    "fpr2_l1, tpr2_l1, thresholds = roc_curve(train_label,y_pred_proba_train_l1)\n",
    "roc_val_train_l1 = roc_auc_score(train_label,y_pred_proba_train_l1)\n",
    "\n",
    "fpr2_l2, tpr2_l2, thresholds = roc_curve(train_label,y_pred_proba_train_l2)\n",
    "roc_val_train_l2 = roc_auc_score(train_label,y_pred_proba_train_l2)\n",
    "\n",
    "plt.plot([0,1],[0,1],'k--')\n",
    "plt.plot(fpr1_l1,tpr1_l1, label='ROC Curve for Test Data using L1')\n",
    "plt.plot(fpr2_l1,tpr2_l1, label='ROC Curve for Training Data using L1')\n",
    "plt.xlabel('fpr')\n",
    "plt.ylabel('tpr')\n",
    "plt.legend()\n",
    "plt.grid()\n",
    "plt.title('ROC curve with optimal value of Lambda using L1 Regulizer = {}' . format(final_l1))\n",
    "plt.show()\n",
    "\n",
    "print (\" AUC value for Test Data for Optimal Lambda using L1 Regulizer is {}\".format(roc_val_test_l1))\n",
    "print (\" AUC value for Training Data for Optimal Lambda using L1 Regulizer {}\".format(roc_val_train_l1))"
   ]
  },
  {
   "cell_type": "code",
   "execution_count": 401,
   "metadata": {},
   "outputs": [
    {
     "name": "stdout",
     "output_type": "stream",
     "text": [
      "Classification Report using L1 Regulizer: \n",
      "             precision    recall  f1-score   support\n",
      "\n",
      "          0       0.65      0.87      0.75      2678\n",
      "          1       0.98      0.93      0.95     17322\n",
      "\n",
      "avg / total       0.94      0.92      0.93     20000\n",
      "\n",
      "----------------------------\n"
     ]
    },
    {
     "data": {
      "image/png": "[encoded data removed]",
      "text/plain": [
       "<Figure size 432x288 with 2 Axes>"
      ]
     },
     "metadata": {},
     "output_type": "display_data"
    }
   ],
   "source": [
    "#Classification Report\n",
    "#import classification_report\n",
    "from sklearn.metrics import classification_report\n",
    "print(\"Classification Report using L1 Regulizer: \")\n",
    "print(\"{}\".format(classification_report(test_label,y_pred_test_l1)))\n",
    "print(\"----------------------------\")\n",
    "\n",
    "#Source : https://stackoverflow.com/questions/19233771/sklearn-plot-confusion-matrix-with-labels\n",
    "#Confusion matrix using Heat Map\n",
    "from sklearn.metrics import confusion_matrix\n",
    "labels = ['0', '1']\n",
    "cm = confusion_matrix(test_label, y_pred_test_l1)\n",
    "sns.heatmap(cm,annot=True,fmt='2.0f')\n",
    "plt.title('Confusion matrix of the classifier for L1')\n",
    "plt.xlabel('Predicted')\n",
    "plt.ylabel('True')\n",
    "plt.show()"
   ]
  },
  {
   "cell_type": "code",
   "execution_count": 402,
   "metadata": {},
   "outputs": [
    {
     "data": {
      "image/png": "[encoded data removed]",
      "text/plain": [
       "<Figure size 432x288 with 1 Axes>"
      ]
     },
     "metadata": {},
     "output_type": "display_data"
    },
    {
     "name": "stdout",
     "output_type": "stream",
     "text": [
      " AUC value for Test Data for Optimal Lambda using L2 Regulizer  is 0.9581805685724827\n",
      " AUC value for Training Data for Optimal Lambda using L2 Regulizer is 0.998835515066097\n"
     ]
    }
   ],
   "source": [
    "plt.plot([0,1],[0,1],'k--')\n",
    "plt.plot(fpr1_l2,tpr1_l2, label='ROC Curve for Test Data using L2')\n",
    "plt.plot(fpr2_l2,tpr2_l2, label='ROC Curve for Training Data using L2')\n",
    "plt.xlabel('fpr')\n",
    "plt.ylabel('tpr')\n",
    "plt.legend()\n",
    "plt.grid()\n",
    "plt.title('ROC curve with optimal Lambda using L2 Regulizer  = {}' . format(final_l2))\n",
    "plt.show()\n",
    "\n",
    "print (\" AUC value for Test Data for Optimal Lambda using L2 Regulizer  is {}\".format(roc_val_test_l2))\n",
    "print (\" AUC value for Training Data for Optimal Lambda using L2 Regulizer is {}\".format(roc_val_train_l2))"
   ]
  },
  {
   "cell_type": "code",
   "execution_count": 403,
   "metadata": {},
   "outputs": [
    {
     "name": "stdout",
     "output_type": "stream",
     "text": [
      "Classification Report using L2 Regulizer: \n",
      "             precision    recall  f1-score   support\n",
      "\n",
      "          0       0.68      0.82      0.74      2678\n",
      "          1       0.97      0.94      0.96     17322\n",
      "\n",
      "avg / total       0.93      0.92      0.93     20000\n",
      "\n",
      "----------------------------\n"
     ]
    },
    {
     "data": {
      "image/png": "[encoded data removed]",
      "text/plain": [
       "<Figure size 432x288 with 2 Axes>"
      ]
     },
     "metadata": {},
     "output_type": "display_data"
    }
   ],
   "source": [
    "#Classification Report\n",
    "print(\"Classification Report using L2 Regulizer: \")\n",
    "print(\"{}\".format(classification_report(test_label,y_pred_test_l2)))\n",
    "print(\"----------------------------\")\n",
    "\n",
    "#Source : https://stackoverflow.com/questions/19233771/sklearn-plot-confusion-matrix-with-labels\n",
    "#Confusion matrix using Heat Map\n",
    "labels = ['0', '1']\n",
    "cm = confusion_matrix(test_label, y_pred_test_l2)\n",
    "sns.heatmap(cm,annot=True,fmt='2.0f')\n",
    "plt.title('Confusion matrix of the classifier using L2 regulizer')\n",
    "plt.xlabel('Predicted')\n",
    "plt.ylabel('True')\n",
    "plt.show()"
   ]
  },
  {
   "cell_type": "markdown",
   "metadata": {},
   "source": [
    "## PERTUBATION"
   ]
  },
  {
   "cell_type": "code",
   "execution_count": 404,
   "metadata": {},
   "outputs": [],
   "source": [
    "#Generating Noise \n",
    "e=np.random.uniform(0,0.01)"
   ]
  },
  {
   "cell_type": "code",
   "execution_count": 405,
   "metadata": {},
   "outputs": [],
   "source": [
    "X_train_d=X_train\n",
    "\n",
    "X_train_d.data+=e"
   ]
  },
  {
   "cell_type": "code",
   "execution_count": 406,
   "metadata": {},
   "outputs": [
    {
     "data": {
      "text/plain": [
       "LogisticRegression(C=12.182493960703473, class_weight='balanced', dual=False,\n",
       "          fit_intercept=True, intercept_scaling=1, max_iter=100,\n",
       "          multi_class='ovr', n_jobs=1, penalty='l2', random_state=None,\n",
       "          solver='liblinear', tol=0.0001, verbose=0, warm_start=False)"
      ]
     },
     "execution_count": 406,
     "metadata": {},
     "output_type": "execute_result"
    }
   ],
   "source": [
    "final_model_l2_d = LogisticRegression(penalty='l2',C=final_l2,class_weight='balanced')\n",
    "\n",
    "final_model_l2_d.fit(X_train_d, train_label)"
   ]
  },
  {
   "cell_type": "code",
   "execution_count": 407,
   "metadata": {},
   "outputs": [],
   "source": [
    "#Storing Weights\n",
    "\n",
    "#Weight Vector before Adding noise \n",
    "w_l2=model_l2.coef_\n",
    "\n",
    "#Weight Vector after Adding Noise\n",
    "w_l2_d=final_model_l2_d.coef_\n",
    "\n",
    "#Adding Small value to weights to avoid divide by Zero issue\n",
    "w_l2_d=w_l2_d+10**-6\n",
    "w_l2=w_l2+10**-6"
   ]
  },
  {
   "cell_type": "code",
   "execution_count": 408,
   "metadata": {},
   "outputs": [],
   "source": [
    "#Calculating the change in values from w to w dash weights.\n",
    "percentage_change_vector=(np.abs((w_l2-w_l2_d)/w_l2))*100\n"
   ]
  },
  {
   "cell_type": "code",
   "execution_count": 409,
   "metadata": {},
   "outputs": [
    {
     "name": "stdout",
     "output_type": "stream",
     "text": [
      "187972.1796483544\n",
      "88.54227327860717\n",
      "0.0023256230726898027\n"
     ]
    }
   ],
   "source": [
    "print(percentage_change_vector.max())\n",
    "print(percentage_change_vector.mean())\n",
    "print(percentage_change_vector.min())"
   ]
  },
  {
   "cell_type": "code",
   "execution_count": 410,
   "metadata": {},
   "outputs": [
    {
     "data": {
      "image/png": "[encoded data removed]",
      "text/plain": [
       "<Figure size 432x288 with 1 Axes>"
      ]
     },
     "metadata": {},
     "output_type": "display_data"
    }
   ],
   "source": [
    "#code reference https://www.kaggle.com/souravdas4/amazon-food-reviews-using-logisticregression\n",
    "\n",
    "#Ploting the cummulative percentile plot to find the threshold value \n",
    "from matplotlib import mlab\n",
    "\n",
    "d = np.sort(percentage_change_vector).cumsum()\n",
    "p = np.array(range(0,101,10))\n",
    "perc = mlab.prctile(d, p=p)\n",
    "plt.plot(d)\n",
    "\n",
    "# Place red dots on the percentiles\n",
    "plt.plot((len(d)-1) * p/100., perc, 'ro')\n",
    "\n",
    "# Set tick locations and labels\n",
    "plt.xticks((len(d)-1) * p/100., map(str, p))\n",
    "plt.grid()\n",
    "plt.show()\n",
    "  "
   ]
  },
  {
   "cell_type": "markdown",
   "metadata": {},
   "source": [
    "### DECISION MAKING\n",
    "\n",
    "WE OBSERVE THAT THERE IS A STEEP SLOPE AT 99 PERCENTILE HENCE 99 PERCENTILE SHOULD BE CHECKED"
   ]
  },
  {
   "cell_type": "code",
   "execution_count": 411,
   "metadata": {},
   "outputs": [
    {
     "name": "stdout",
     "output_type": "stream",
     "text": [
      "99.1 percentile - 224.5057171554568\n",
      "99.19999999999999 percentile - 245.17631729998536\n",
      "99.3 percentile - 271.9541859132696\n",
      "99.39999999999999 percentile - 306.3846899737164\n",
      "99.5 percentile - 363.35045462515666\n",
      "99.6 percentile - 443.91738513929465\n",
      "99.7 percentile - 587.8413644912664\n",
      "99.8 percentile - 863.428779344874\n",
      "99.9 percentile - 1524.511137738989\n",
      "100.0 percentile - 187972.1796483544\n"
     ]
    }
   ],
   "source": [
    "perc=np.linspace(99.1,100,10)\n",
    "\n",
    "for i in perc:\n",
    "    print(\"{} percentile - {}\".format(i,np.percentile(percentage_change_vector,i)))\n",
    "  "
   ]
  },
  {
   "cell_type": "markdown",
   "metadata": {},
   "source": [
    "WE SEE THAT THERE IS A SUDDEN JUMP AFTER 99.8 PERCENTILE THUS IT IS TAKEN TO BE THE THRESHOLD"
   ]
  },
  {
   "cell_type": "code",
   "execution_count": 412,
   "metadata": {},
   "outputs": [],
   "source": [
    "features=np.where(percentage_change_vector>np.percentile(percentage_change_vector,99.8))[1]"
   ]
  },
  {
   "cell_type": "markdown",
   "metadata": {},
   "source": [
    "### FEATURES CORRESPOIND TO THRESHOLD VALUE GREATER THAN 99.8"
   ]
  },
  {
   "cell_type": "code",
   "execution_count": 413,
   "metadata": {},
   "outputs": [
    {
     "name": "stdout",
     "output_type": "stream",
     "text": [
      "academi alternativw bellyflop bloated chopstick coast commit comt contiu dachsund diego dog electrolyt electron evap expertis froze furious gfcg give gooooood grear ham hous husband injest itll jeez kyiv leonardi let marshal nilla novic nutragrain oatam panni picki pictur potenti producto progam refut seventh sweeet tango taster theater tikka uneconom unhygen warhamm wingal zigelhof tastier smoklehous skyrocket shark roger relationship proflow poker occas multigener manjar luwak lemonad justifi japan fork forev flash exercis creameri boss arteri aficionado \n",
      "--------------------------------------------\n",
      "Total Number of features : 77\n"
     ]
    }
   ],
   "source": [
    "names_reviews=count_vect.get_feature_names()\n",
    "names_summary=count_vect_sum.get_feature_names()\n",
    "for i in features:\n",
    "    if(i>29133):\n",
    "        print(names_summary[29134-i],end=\" \")\n",
    "    else:\n",
    "        print(names_reviews[i],end=\" \")\n",
    "print('\\n--------------------------------------------')\n",
    "print(\"Total Number of features :\",len(features))  "
   ]
  },
  {
   "cell_type": "markdown",
   "metadata": {},
   "source": [
    "### TOP 20 MOST IMPORTANT FEATURES\n",
    "\n"
   ]
  },
  {
   "cell_type": "code",
   "execution_count": 414,
   "metadata": {
    "scrolled": true
   },
   "outputs": [
    {
     "name": "stdout",
     "output_type": "stream",
     "text": [
      "Top 20 negative features\n",
      "\n",
      "(-11.403853503714004, 'matic')\n",
      "(-10.854875077487858, 'hime')\n",
      "(-10.06979040773634, 'beautifuli')\n",
      "(-8.791190002554387, 'trifl')\n",
      "(-8.554356634693988, 'maunfactur')\n",
      "(-8.071086704829543, 'caf')\n",
      "(-8.043249657092034, 'worst')\n",
      "(-7.799019820871999, 'simular')\n",
      "(-7.542749347533636, 'thamk')\n",
      "(-7.266352846912987, 'consequ')\n",
      "(-6.892592223076551, 'storg')\n",
      "(-6.71647633618289, 'morgan')\n",
      "(-6.410257898725083, 'scam')\n",
      "(-6.386171695351592, 'trusti')\n",
      "(-6.20873010128983, 'multigrain')\n",
      "(-6.180880319932322, 'fallen')\n",
      "(-6.115764453851991, 'yup')\n",
      "(-5.851744053065956, 'clasico')\n",
      "(-5.746592894553317, 'mattress')\n",
      "(-5.611387008519432, 'whatchamacallit')\n",
      "\n",
      "************************\n",
      "\n",
      "Top 20 positive features\n",
      "\n",
      "(8.392973029152955, 'solv')\n",
      "(5.560129173090449, 'hook')\n",
      "(5.493386574309062, 'uniqu')\n",
      "(5.346929892756209, 'relat')\n",
      "(5.176630953501214, 'ketchup')\n",
      "(4.857695265037739, 'skeptic')\n",
      "(4.739788458684078, 'accur')\n",
      "(4.614457226677176, 'quiet')\n",
      "(4.5942443910052555, 'amaz')\n",
      "(4.314121013202329, 'addict')\n",
      "(4.075729247237313, 'awesom')\n",
      "(4.016569954887207, 'perfect')\n",
      "(4.002098329094696, 'yum')\n",
      "(3.902410458545901, 'beauti')\n",
      "(3.828035543466551, 'pleasant')\n",
      "(3.8040622907016743, 'critic')\n",
      "(3.7243066198781323, 'leg')\n",
      "(3.6229694759280697, 'aluminum')\n",
      "(3.572963224090434, 'cholesterol')\n",
      "(3.5605917585801765, 'hes')\n"
     ]
    }
   ],
   "source": [
    "#Source : https://stackoverflow.com/questions/11116697/how-to-get-most-informative-features-for-scikit-learn-classifiers\n",
    "def most_informative_feature_for_binary_classification(vectorizer, classifier):\n",
    "    class_labels = classifier.classes_\n",
    "    feature_names = vectorizer.get_feature_names()\n",
    "    coefs = sorted(zip(classifier.coef_[0], feature_names))\n",
    "    topn_class1 = coefs[:20]\n",
    "    topn_class2 = coefs[:-(21):-1]\n",
    "\n",
    "    print(\"Top 20 negative features\\n\")\n",
    "    for i in topn_class1:\n",
    "        print(i)\n",
    "\n",
    "    print(\"\\n************************\\n\")\n",
    "    print(\"Top 20 positive features\\n\")\n",
    "    for i in topn_class2:\n",
    "        print(i)\n",
    "    \n",
    "most_informative_feature_for_binary_classification(count_vect,final_model_l1)"
   ]
  },
  {
   "cell_type": "markdown",
   "metadata": {},
   "source": [
    "### TF-IDF for Summary Text"
   ]
  },
  {
   "cell_type": "code",
   "execution_count": 415,
   "metadata": {
    "colab": {},
    "colab_type": "code",
    "id": "wZ3Epk1wJkku"
   },
   "outputs": [],
   "source": [
    "if os.path.isfile('train.sqlite'):\n",
    "    conn = sqlite3.connect('train.sqlite')\n",
    "    final = pd.read_sql_query(\"\"\" SELECT * FROM Reviews WHERE Score != 3 \"\"\", conn)\n",
    "    conn.close()"
   ]
  },
  {
   "cell_type": "code",
   "execution_count": 416,
   "metadata": {},
   "outputs": [
    {
     "name": "stdout",
     "output_type": "stream",
     "text": [
      "the type of count vectorizer  <class 'scipy.sparse.csr.csr_matrix'>\n",
      "the shape of out text BOW vectorizer  (60000, 9357)\n",
      "the number of unique words  9357\n"
     ]
    }
   ],
   "source": [
    "#TF-IDF on training Summary dataset\n",
    "count_vect_tf_idf_sum = TfidfVectorizer() #in scikit-learn\n",
    "final_counts_sum = count_vect_tf_idf_sum.fit_transform(final['CleanedSummaryText'].values)\n",
    "X_train_sum=final_counts_sum\n",
    "X_train_sum=normalize(X_train_sum, axis=1, norm='max')\n",
    "print(\"the type of count vectorizer \",type(X_train_sum))\n",
    "print(\"the shape of out text BOW vectorizer \",X_train_sum.get_shape())\n",
    "print(\"the number of unique words \", X_train_sum.get_shape()[1])"
   ]
  },
  {
   "cell_type": "code",
   "execution_count": 417,
   "metadata": {},
   "outputs": [],
   "source": [
    "if os.path.isfile('cross_validation.sqlite'):\n",
    "    conn = sqlite3.connect('cross_validation.sqlite')\n",
    "    final_cross_validation = pd.read_sql_query(\"\"\" SELECT * FROM Reviews WHERE Score != 3 \"\"\", conn)\n",
    "    conn.close()"
   ]
  },
  {
   "cell_type": "code",
   "execution_count": 418,
   "metadata": {},
   "outputs": [
    {
     "name": "stdout",
     "output_type": "stream",
     "text": [
      "the type of count vectorizer  <class 'scipy.sparse.csr.csr_matrix'>\n",
      "the shape of out text BOW vectorizer  (20000, 9357)\n",
      "the number of unique words  9357\n"
     ]
    }
   ],
   "source": [
    "#TF_IDF on CV Summary dataset\n",
    "final_counts_cross_validation_sum = count_vect_tf_idf_sum.transform(final_cross_validation['CleanedSummaryText'].values)\n",
    "X_cv_sum=final_counts_cross_validation_sum\n",
    "X_cv_sum=normalize(X_cv_sum, axis=1, norm='max')\n",
    "print(\"the type of count vectorizer \",type(X_cv_sum))\n",
    "print(\"the shape of out text BOW vectorizer \",X_cv_sum.get_shape())\n",
    "print(\"the number of unique words \", X_cv_sum.get_shape()[1])"
   ]
  },
  {
   "cell_type": "code",
   "execution_count": 419,
   "metadata": {},
   "outputs": [],
   "source": [
    "if os.path.isfile('test.sqlite'):\n",
    "    conn = sqlite3.connect('test.sqlite')\n",
    "    test = pd.read_sql_query(\"\"\" SELECT * FROM Reviews WHERE Score != 3 \"\"\", conn)\n",
    "    conn.close()\n",
    "else:\n",
    "    print(\"Please the above cell\")"
   ]
  },
  {
   "cell_type": "code",
   "execution_count": 420,
   "metadata": {},
   "outputs": [
    {
     "name": "stdout",
     "output_type": "stream",
     "text": [
      "the type of count vectorizer  <class 'scipy.sparse.csr.csr_matrix'>\n",
      "the shape of out text BOW vectorizer  (20000, 9357)\n",
      "the number of unique words  9357\n"
     ]
    }
   ],
   "source": [
    "#TF-IDF on Test Summary dataset\n",
    "test_count_sum = count_vect_tf_idf_sum.transform(test['CleanedSummaryText'].values)\n",
    "X_test_sum=test_count_sum\n",
    "X_test_sum=normalize(X_test_sum, axis=1, norm='max')\n",
    "print(\"the type of count vectorizer \",type(X_test_sum))\n",
    "print(\"the shape of out text BOW vectorizer \",X_test_sum.get_shape())\n",
    "print(\"the number of unique words \", X_test_sum.get_shape()[1])"
   ]
  },
  {
   "cell_type": "markdown",
   "metadata": {},
   "source": [
    "### TF-IDF for Review Text"
   ]
  },
  {
   "cell_type": "code",
   "execution_count": 421,
   "metadata": {
    "colab": {},
    "colab_type": "code",
    "id": "oL29fzPFJkll"
   },
   "outputs": [],
   "source": [
    "if os.path.isfile('train.sqlite'):\n",
    "    conn = sqlite3.connect('train.sqlite')\n",
    "    final = pd.read_sql_query(\"\"\" SELECT * FROM Reviews WHERE Score != 3 \"\"\", conn)\n",
    "    conn.close()\n",
    "else:\n",
    "    print(\"Please the above cell\")"
   ]
  },
  {
   "cell_type": "code",
   "execution_count": 422,
   "metadata": {},
   "outputs": [
    {
     "name": "stdout",
     "output_type": "stream",
     "text": [
      "the type of count vectorizer  <class 'scipy.sparse.csr.csr_matrix'>\n",
      "the shape of out text BOW vectorizer  (60000, 29134)\n",
      "the type of count vectorizer  <class 'scipy.sparse.csr.csr_matrix'>\n",
      "the shape of out text BOW vectorizer  (60000, 38491)\n"
     ]
    }
   ],
   "source": [
    "#TF-IDF on training dataset\n",
    "count_vect_tf_idf = TfidfVectorizer() #in scikit-learn\n",
    "final_counts = count_vect_tf_idf.fit_transform(final['CleanedText'].values)\n",
    "X_train=[]\n",
    "X_train=final_counts\n",
    "X_train=normalize(X_train, axis=1, norm='max')\n",
    "train_label=final['Score'].values\n",
    "print(\"the type of count vectorizer \",type(final_counts))\n",
    "print(\"the shape of out text BOW vectorizer \",final_counts.get_shape())\n",
    "X_train=hstack((X_train, X_train_sum))\n",
    "X_train =csr_matrix(X_train)\n",
    "print(\"the type of count vectorizer \",type(X_train))\n",
    "print(\"the shape of out text BOW vectorizer \",X_train.get_shape())"
   ]
  },
  {
   "cell_type": "code",
   "execution_count": 423,
   "metadata": {},
   "outputs": [],
   "source": [
    "if os.path.isfile('cross_validation.sqlite'):\n",
    "    conn = sqlite3.connect('cross_validation.sqlite')\n",
    "    final_cross_validation = pd.read_sql_query(\"\"\" SELECT * FROM Reviews WHERE Score != 3 \"\"\", conn)\n",
    "    conn.close()\n",
    "else:\n",
    "    print(\"Please the above cell\")"
   ]
  },
  {
   "cell_type": "code",
   "execution_count": 424,
   "metadata": {},
   "outputs": [
    {
     "name": "stdout",
     "output_type": "stream",
     "text": [
      "the type of count vectorizer  <class 'scipy.sparse.csr.csr_matrix'>\n",
      "the shape of out text BOW vectorizer  (20000, 29134)\n",
      "the type of count vectorizer  <class 'scipy.sparse.csr.csr_matrix'>\n",
      "the shape of out text BOW vectorizer  (20000, 38491)\n"
     ]
    }
   ],
   "source": [
    "#TF_IDF on CV dataset\n",
    "final_counts_cross_validation = count_vect_tf_idf.transform(final_cross_validation['CleanedText'].values)\n",
    "X_cv=[]\n",
    "X_cv=final_counts_cross_validation\n",
    "X_cv=normalize(X_cv, axis=1, norm='max')\n",
    "cv_label=final_cross_validation['Score'].values\n",
    "print(\"the type of count vectorizer \",type(final_counts_cross_validation))\n",
    "print(\"the shape of out text BOW vectorizer \",final_counts_cross_validation.get_shape())\n",
    "X_cv=hstack((X_cv, X_cv_sum))\n",
    "X_cv =csr_matrix(X_cv)\n",
    "print(\"the type of count vectorizer \",type(X_cv))\n",
    "print(\"the shape of out text BOW vectorizer \",X_cv.get_shape())"
   ]
  },
  {
   "cell_type": "code",
   "execution_count": 425,
   "metadata": {},
   "outputs": [],
   "source": [
    "if os.path.isfile('test.sqlite'):\n",
    "    conn = sqlite3.connect('test.sqlite')\n",
    "    test = pd.read_sql_query(\"\"\" SELECT * FROM Reviews WHERE Score != 3 \"\"\", conn)\n",
    "    conn.close()\n",
    "else:\n",
    "    print(\"Please the above cell\")"
   ]
  },
  {
   "cell_type": "code",
   "execution_count": 426,
   "metadata": {},
   "outputs": [
    {
     "name": "stdout",
     "output_type": "stream",
     "text": [
      "the type of count vectorizer  <class 'scipy.sparse.csr.csr_matrix'>\n",
      "the shape of out text BOW vectorizer  (20000, 29134)\n",
      "the type of count vectorizer  <class 'scipy.sparse.csr.csr_matrix'>\n",
      "the shape of out text BOW vectorizer  (20000, 38491)\n"
     ]
    }
   ],
   "source": [
    "#TF-IDF on Test dataset\n",
    "test_count = count_vect_tf_idf.transform(test['CleanedText'].values)\n",
    "X_test=[]\n",
    "X_test=test_count\n",
    "X_test=normalize(X_test, axis=1, norm='max')\n",
    "test_label=test['Score'].values\n",
    "print(\"the type of count vectorizer \",type(test_count))\n",
    "print(\"the shape of out text BOW vectorizer \",test_count.get_shape())\n",
    "X_test=hstack((X_test, X_test_sum))\n",
    "X_test =csr_matrix(X_test)\n",
    "print(\"the type of count vectorizer \",type(X_test))\n",
    "print(\"the shape of out text BOW vectorizer \",X_test.get_shape())"
   ]
  },
  {
   "cell_type": "markdown",
   "metadata": {},
   "source": [
    "## Applying Logistic Classifier on TF-IDF"
   ]
  },
  {
   "cell_type": "code",
   "execution_count": 427,
   "metadata": {
    "colab": {},
    "colab_type": "code",
    "id": "UR0f8SfZJkle"
   },
   "outputs": [],
   "source": [
    "l=[10**-5,10**-4,10**-3,10**-2,10**-1,1,10**1,10**2,10**3,10**4,10**5]\n",
    "\n",
    "#Store Auc value for  train \n",
    "roc_val_cv_l1 = np.empty(len(l))\n",
    "\n",
    "roc_val_train_l1 = np.empty(len(l))\n",
    "\n",
    "#Store Auc value for  train \n",
    "roc_val_cv_l2 = np.empty(len(l))\n",
    "\n",
    "roc_val_train_l2 = np.empty(len(l))\n",
    "\n",
    "\n",
    "for i,k in enumerate((l)):\n",
    "    #Setup a Logistice Regression Classifier for L1 nd L2 Regulizer\n",
    "    model_l1 = LogisticRegression(penalty='l1',C=k,class_weight='balanced')\n",
    "    model_l2 = LogisticRegression(penalty='l2',C=k,class_weight='balanced')\n",
    "    \n",
    "    #Store the predicted class labels for Train data\n",
    "    y_pred_train_l1 = []\n",
    "    y_pred_proba_train_l1=[]\n",
    "    #Store the predicted class labels for Train data\n",
    "    y_pred_train_l2 = []\n",
    "    y_pred_proba_train_l2=[]\n",
    "    \n",
    "    #Fit the model\n",
    "    model_l1.fit(X_train, train_label)\n",
    "    #Fit the model\n",
    "    model_l2.fit(X_train, train_label)\n",
    "    \n",
    "    #Predict the Class label in Train data\n",
    "    y_pred_train_l1=model_l1.predict(X_train)\n",
    "    #Predict the Class label in Train data\n",
    "    y_pred_train_l2=model_l2.predict(X_train)\n",
    "    \n",
    "    \n",
    "    #Compute the Prob Scores for ROC for Train\n",
    "    y_pred_proba_train_l1 = model_l1.predict_proba(X_train)[:,1]\n",
    "\n",
    "    roc_val_train_l1[i] = roc_auc_score(train_label,y_pred_proba_train_l1)\n",
    "    \n",
    "    #Compute the Prob Scores for ROC for Train\n",
    "    y_pred_proba_train_l2 = model_l2.predict_proba(X_train)[:,1]\n",
    "\n",
    "    roc_val_train_l2[i] = roc_auc_score(train_label,y_pred_proba_train_l2)"
   ]
  },
  {
   "cell_type": "code",
   "execution_count": 428,
   "metadata": {},
   "outputs": [],
   "source": [
    "#Performing Hyper parameter tuning for finding the best Lambda using simple cross validation.\n",
    "\n",
    "for i,k in enumerate((l)):\n",
    "    #Setup a Logistice Regression Classifier for L1 nd L2 Regulizer\n",
    "    model_l1 = LogisticRegression(penalty='l1',C=k,class_weight='balanced')\n",
    "    model_l2 = LogisticRegression(penalty='l2',C=k,class_weight='balanced')\n",
    "    \n",
    "    #Store the predicted class labels for CV\n",
    "    y_pred_cv_l1 = []\n",
    "    y_pred_proba_cv_l1=[]\n",
    "    y_pred_cv_l2 = []\n",
    "    y_pred_proba_cv_l2=[]\n",
    "    \n",
    "    #Fit the model\n",
    "    model_l1.fit(X_train, train_label)\n",
    "    model_l2.fit(X_train, train_label)\n",
    "    \n",
    "    #Predict the Class label in CV data\n",
    "    for d in range(0, 20000, 2000):\n",
    "        y_pred_cv_l1.extend(model_l1.predict(X_cv[d:d+2000]))\n",
    "        \n",
    "    for d in range(0, 20000, 2000):\n",
    "        y_pred_cv_l1.extend(model_l2.predict(X_cv[d:d+2000]))\n",
    "        \n",
    "    #Compute the Prob Scores for ROC for CV\n",
    "    y_pred_proba_cv_l1 = model_l1.predict_proba(X_cv)[:,1]\n",
    "    \n",
    "    roc_val_cv_l1[i] = roc_auc_score(cv_label,y_pred_proba_cv_l1)\n",
    "    \n",
    "    #Compute the Prob Scores for ROC for CV\n",
    "    y_pred_proba_cv_l2 = model_l2.predict_proba(X_cv)[:,1]\n",
    "    \n",
    "    roc_val_cv_l2[i] = roc_auc_score(cv_label,y_pred_proba_cv_l2)"
   ]
  },
  {
   "cell_type": "code",
   "execution_count": 429,
   "metadata": {},
   "outputs": [],
   "source": [
    "l1_log=[np.log(i) for i in l]\n",
    "\n",
    "l2_log=[np.log(i) for i in l]"
   ]
  },
  {
   "cell_type": "code",
   "execution_count": 430,
   "metadata": {},
   "outputs": [
    {
     "data": {
      "image/png": "[encoded data removed]",
      "text/plain": [
       "<Figure size 432x288 with 1 Axes>"
      ]
     },
     "metadata": {},
     "output_type": "display_data"
    }
   ],
   "source": [
    "#Elbow Plot for determining the optimal value of Lambda using L1 regulizer\n",
    "plt.title('Elbow Plot for determining the optimal value of Lamba using L1 Regulizer')\n",
    "plt.plot(l1_log, roc_val_cv_l1, label='Cross Validation AUC Score Curve')\n",
    "plt.plot(l1_log, roc_val_train_l1, label='Train AUC Score Curve')\n",
    "plt.legend()\n",
    "plt.xlabel('Varying values of Lambda')\n",
    "plt.ylabel('AUC Scores')\n",
    "plt.grid()\n",
    "plt.show()"
   ]
  },
  {
   "cell_type": "code",
   "execution_count": 431,
   "metadata": {},
   "outputs": [
    {
     "data": {
      "image/png": "[encoded data removed]",
      "text/plain": [
       "<Figure size 432x288 with 1 Axes>"
      ]
     },
     "metadata": {},
     "output_type": "display_data"
    }
   ],
   "source": [
    "#Elbow Plot for determining the optimal value of Lambda using L2 Regulizer\n",
    "plt.title('Elbow Plot for determining the optimal value of Lamba using L2 Regulizer')\n",
    "plt.plot(l2_log, roc_val_cv_l2, label='Cross Validation AUC Score Curve')\n",
    "plt.plot(l2_log, roc_val_train_l2, label='Train AUC Score Curve')\n",
    "plt.legend()\n",
    "plt.xlabel('Varying values of Lambda Hyperparameter')\n",
    "plt.ylabel('AUC Scores')\n",
    "plt.grid()\n",
    "plt.show()"
   ]
  },
  {
   "cell_type": "markdown",
   "metadata": {},
   "source": [
    "### Fitting the Test Data using optimal Lambda and applying Logistic Regression Classifier"
   ]
  },
  {
   "cell_type": "code",
   "execution_count": 432,
   "metadata": {},
   "outputs": [],
   "source": [
    "final_l1=np.exp(.1)\n",
    "final_l2=np.exp(2.5)"
   ]
  },
  {
   "cell_type": "code",
   "execution_count": 433,
   "metadata": {},
   "outputs": [
    {
     "data": {
      "image/png": "[encoded data removed]",
      "text/plain": [
       "<Figure size 432x288 with 1 Axes>"
      ]
     },
     "metadata": {},
     "output_type": "display_data"
    },
    {
     "name": "stdout",
     "output_type": "stream",
     "text": [
      " AUC value for Test Data for Optimal Lambda using L1 Regulizer is 0.9667498169151043\n",
      " AUC value for Training Data for Optimal Lambda using L1 Regulizer 0.9937345722038083\n"
     ]
    }
   ],
   "source": [
    "# Applying Optimal Value of Lambda obtained from simple cross validation on test data for L1 and L2 regulizer\n",
    "\n",
    "final_model_l1 = LogisticRegression(penalty='l1',C=final_l1,class_weight='balanced')\n",
    "final_model_l2 = LogisticRegression(penalty='l2',C=final_l2,class_weight='balanced')\n",
    "\n",
    "#Store the predicted class labels and prob scores for Test data\n",
    "y_pred_test_l1 = []\n",
    "y_pred_proba_test_l1=[]\n",
    "y_pred_train_l1 = []\n",
    "y_pred_proba_train_l1=[]\n",
    "y_pred_test_l2 = []\n",
    "y_pred_proba_test_l2=[]\n",
    "y_pred_train_l2 = []\n",
    "y_pred_proba_train_l2=[]\n",
    "    \n",
    "#Fit the model\n",
    "final_model_l1.fit(X_train, train_label)\n",
    "final_model_l2.fit(X_train, train_label)\n",
    "    \n",
    "#Predict the Class label in Test data\n",
    "for d in range(0, 20000, 2000):\n",
    "    y_pred_test_l1.extend(final_model_l1.predict(X_test[d:d+2000]))\n",
    "    \n",
    "#Compute the Prob Scores for ROC for Test\n",
    "y_pred_proba_test_l1 = final_model_l1.predict_proba(X_test)[:,1]\n",
    "\n",
    "#Predict the Class label in Test data\n",
    "for d in range(0, 20000, 2000):\n",
    "    y_pred_test_l2.extend(final_model_l2.predict(X_test[d:d+2000]))\n",
    "    \n",
    "#Compute the Prob Scores for ROC for Test\n",
    "y_pred_proba_test_l2 = final_model_l2.predict_proba(X_test)[:,1]\n",
    "\n",
    "fpr1_l1, tpr1_l1, thresholds = roc_curve(test_label,y_pred_proba_test_l1)\n",
    "roc_val_test_l1 = roc_auc_score(test_label,y_pred_proba_test_l1)\n",
    "\n",
    "fpr1_l2, tpr1_l2, thresholds = roc_curve(test_label,y_pred_proba_test_l2)\n",
    "roc_val_test_l2 = roc_auc_score(test_label,y_pred_proba_test_l2)\n",
    "\n",
    "\n",
    "#Predict the Class label in Train data\n",
    "y_pred_train_l1=final_model_l1.predict(X_train)\n",
    "y_pred_proba_train_l1=final_model_l1.predict_proba(X_train)[:,1]\n",
    "\n",
    "#Predict the Class label in Train data\n",
    "y_pred_train_l2=final_model_l2.predict(X_train)\n",
    "y_pred_proba_train_l2=final_model_l2.predict_proba(X_train)[:,1]\n",
    "\n",
    "fpr2_l1, tpr2_l1, thresholds = roc_curve(train_label,y_pred_proba_train_l1)\n",
    "roc_val_train_l1 = roc_auc_score(train_label,y_pred_proba_train_l1)\n",
    "\n",
    "fpr2_l2, tpr2_l2, thresholds = roc_curve(train_label,y_pred_proba_train_l2)\n",
    "roc_val_train_l2 = roc_auc_score(train_label,y_pred_proba_train_l2)\n",
    "\n",
    "plt.plot([0,1],[0,1],'k--')\n",
    "plt.plot(fpr1_l1,tpr1_l1, label='ROC Curve for Test Data using L1')\n",
    "plt.plot(fpr2_l1,tpr2_l1, label='ROC Curve for Training Data using L1')\n",
    "plt.xlabel('fpr')\n",
    "plt.ylabel('tpr')\n",
    "plt.legend()\n",
    "plt.grid()\n",
    "plt.title('ROC curve with optimal value of Lambda using L1 Regulizer = {}' . format(final_l1))\n",
    "plt.show()\n",
    "\n",
    "print (\" AUC value for Test Data for Optimal Lambda using L1 Regulizer is {}\".format(roc_val_test_l1))\n",
    "print (\" AUC value for Training Data for Optimal Lambda using L1 Regulizer {}\".format(roc_val_train_l1))"
   ]
  },
  {
   "cell_type": "code",
   "execution_count": 434,
   "metadata": {},
   "outputs": [
    {
     "name": "stdout",
     "output_type": "stream",
     "text": [
      "Classification Report using L1 Regulizer: \n",
      "             precision    recall  f1-score   support\n",
      "\n",
      "          0       0.67      0.87      0.75      2678\n",
      "          1       0.98      0.93      0.96     17322\n",
      "\n",
      "avg / total       0.94      0.92      0.93     20000\n",
      "\n",
      "----------------------------\n"
     ]
    },
    {
     "data": {
      "image/png": "[encoded data removed]",
      "text/plain": [
       "<Figure size 432x288 with 2 Axes>"
      ]
     },
     "metadata": {},
     "output_type": "display_data"
    }
   ],
   "source": [
    "#Classification Report\n",
    "#import classification_report\n",
    "from sklearn.metrics import classification_report\n",
    "print(\"Classification Report using L1 Regulizer: \")\n",
    "print(\"{}\".format(classification_report(test_label,y_pred_test_l1)))\n",
    "print(\"----------------------------\")\n",
    "\n",
    "#Source : https://stackoverflow.com/questions/19233771/sklearn-plot-confusion-matrix-with-labels\n",
    "#Confusion matrix using Heat Map\n",
    "from sklearn.metrics import confusion_matrix\n",
    "labels = ['0', '1']\n",
    "cm = confusion_matrix(test_label, y_pred_test_l1)\n",
    "sns.heatmap(cm,annot=True,fmt='2.0f')\n",
    "plt.title('Confusion matrix of the classifier for L1')\n",
    "plt.xlabel('Predicted')\n",
    "plt.ylabel('True')\n",
    "plt.show()"
   ]
  },
  {
   "cell_type": "code",
   "execution_count": 435,
   "metadata": {},
   "outputs": [
    {
     "data": {
      "image/png": "[encoded data removed]",
      "text/plain": [
       "<Figure size 432x288 with 1 Axes>"
      ]
     },
     "metadata": {},
     "output_type": "display_data"
    },
    {
     "name": "stdout",
     "output_type": "stream",
     "text": [
      " AUC value for Test Data for Optimal Lambda using L2 Regulizer  is 0.9579145964255309\n",
      " AUC value for Training Data for Optimal Lambda using L2 Regulizer is 0.9995499117995488\n"
     ]
    }
   ],
   "source": [
    "plt.plot([0,1],[0,1],'k--')\n",
    "plt.plot(fpr1_l2,tpr1_l2, label='ROC Curve for Test Data using L2')\n",
    "plt.plot(fpr2_l2,tpr2_l2, label='ROC Curve for Training Data using L2')\n",
    "plt.xlabel('fpr')\n",
    "plt.ylabel('tpr')\n",
    "plt.legend()\n",
    "plt.grid()\n",
    "plt.title('ROC curve with optimal Lambda using L2 Regulizer  = {}' . format(final_l2))\n",
    "plt.show()\n",
    "\n",
    "print (\" AUC value for Test Data for Optimal Lambda using L2 Regulizer  is {}\".format(roc_val_test_l2))\n",
    "print (\" AUC value for Training Data for Optimal Lambda using L2 Regulizer is {}\".format(roc_val_train_l2))"
   ]
  },
  {
   "cell_type": "code",
   "execution_count": 436,
   "metadata": {},
   "outputs": [
    {
     "name": "stdout",
     "output_type": "stream",
     "text": [
      "Classification Report using L2 Regulizer: \n",
      "             precision    recall  f1-score   support\n",
      "\n",
      "          0       0.70      0.81      0.75      2678\n",
      "          1       0.97      0.95      0.96     17322\n",
      "\n",
      "avg / total       0.93      0.93      0.93     20000\n",
      "\n",
      "----------------------------\n"
     ]
    },
    {
     "data": {
      "image/png": "[encoded data removed]",
      "text/plain": [
       "<Figure size 432x288 with 2 Axes>"
      ]
     },
     "metadata": {},
     "output_type": "display_data"
    }
   ],
   "source": [
    "#Classification Report\n",
    "print(\"Classification Report using L2 Regulizer: \")\n",
    "print(\"{}\".format(classification_report(test_label,y_pred_test_l2)))\n",
    "print(\"----------------------------\")\n",
    "\n",
    "#Source : https://stackoverflow.com/questions/19233771/sklearn-plot-confusion-matrix-with-labels\n",
    "#Confusion matrix using Heat Map\n",
    "labels = ['0', '1']\n",
    "cm = confusion_matrix(test_label, y_pred_test_l2)\n",
    "sns.heatmap(cm,annot=True,fmt='2.0f')\n",
    "plt.title('Confusion matrix of the classifier using L2 regulizer')\n",
    "plt.xlabel('Predicted')\n",
    "plt.ylabel('True')\n",
    "plt.show()"
   ]
  },
  {
   "cell_type": "code",
   "execution_count": 437,
   "metadata": {},
   "outputs": [
    {
     "name": "stdout",
     "output_type": "stream",
     "text": [
      "Top 20 negative features\n",
      "\n",
      "(-8.44650512603405, 'hime')\n",
      "(-7.573681388665202, 'hapkido')\n",
      "(-7.240270035163794, 'beautifuli')\n",
      "(-7.148917922038894, 'maunfactur')\n",
      "(-6.869362291143, 'worst')\n",
      "(-6.864592243591652, 'matic')\n",
      "(-6.643138650125707, 'fyou')\n",
      "(-6.556376913191701, 'caf')\n",
      "(-6.316522576207729, 'thougth')\n",
      "(-6.251167738692059, 'consequ')\n",
      "(-6.154910659115923, 'morgan')\n",
      "(-5.725331769182594, 'trifl')\n",
      "(-5.7161577687559015, 'mattress')\n",
      "(-5.703685586398378, 'tradeoff')\n",
      "(-5.628083909637032, 'simular')\n",
      "(-5.489280491665147, 'fallen')\n",
      "(-5.161002859308106, 'malnourish')\n",
      "(-5.108193515693052, 'thamk')\n",
      "(-4.941521671685161, 'disappoint')\n",
      "(-4.933672916884615, 'texarkana')\n",
      "\n",
      "************************\n",
      "\n",
      "Top 20 positive features\n",
      "\n",
      "(6.969495657602891, 'solv')\n",
      "(6.145567854846393, 'great')\n",
      "(6.012462843748969, 'perfect')\n",
      "(5.558606725940974, 'hook')\n",
      "(5.338274048623147, 'delici')\n",
      "(5.215377110265046, 'excel')\n",
      "(5.151901742881975, 'amaz')\n",
      "(5.125276687683966, 'uniqu')\n",
      "(4.926125242665796, 'best')\n",
      "(4.695637654095079, 'addict')\n",
      "(4.405144858442779, 'love')\n",
      "(4.368497242561394, 'ketchup')\n",
      "(4.363153091411177, 'quiet')\n",
      "(4.297153231797051, 'awesom')\n",
      "(4.293995108379476, 'skeptic')\n",
      "(4.134388367871963, 'smooth')\n",
      "(4.109935924131522, 'accur')\n",
      "(4.041226702736529, 'relat')\n",
      "(3.91137826105546, 'nice')\n",
      "(3.9062843296613736, 'pleasant')\n"
     ]
    }
   ],
   "source": [
    "#Source : https://stackoverflow.com/questions/11116697/how-to-get-most-informative-features-for-scikit-learn-classifiers\n",
    "def most_informative_feature_for_binary_classification(vectorizer, classifier):\n",
    "    class_labels = classifier.classes_\n",
    "    feature_names = vectorizer.get_feature_names()\n",
    "    coefs = sorted(zip(classifier.coef_[0], feature_names))\n",
    "    topn_class1 = coefs[:20]\n",
    "    topn_class2 = coefs[:-(21):-1]\n",
    "\n",
    "    print(\"Top 20 negative features\\n\")\n",
    "    for i in topn_class1:\n",
    "        print(i)\n",
    "\n",
    "    print(\"\\n************************\\n\")\n",
    "    print(\"Top 20 positive features\\n\")\n",
    "    for i in topn_class2:\n",
    "        print(i)\n",
    "    \n",
    "most_informative_feature_for_binary_classification(count_vect_tf_idf,final_model_l1)"
   ]
  },
  {
   "cell_type": "markdown",
   "metadata": {
    "colab_type": "text",
    "id": "vst5Y7mmJklu"
   },
   "source": [
    "## Featurization using TF-IDF-Word2Vec"
   ]
  },
  {
   "cell_type": "code",
   "execution_count": 438,
   "metadata": {},
   "outputs": [],
   "source": [
    "if os.path.isfile('train.sqlite'):\n",
    "    conn = sqlite3.connect('train.sqlite')\n",
    "    final = pd.read_sql_query(\"\"\" SELECT * FROM Reviews WHERE Score != 3 \"\"\", conn)\n",
    "    conn.close()"
   ]
  },
  {
   "cell_type": "code",
   "execution_count": 439,
   "metadata": {},
   "outputs": [],
   "source": [
    "# Train your own Word2Vec model using your own text corpus from training data \n",
    "i=0\n",
    "list_of_sent_train=[]\n",
    "for sent in final['CleanedText'].values:\n",
    "    list_of_sent_train.append(sent.split())"
   ]
  },
  {
   "cell_type": "code",
   "execution_count": 440,
   "metadata": {},
   "outputs": [
    {
     "name": "stdout",
     "output_type": "stream",
     "text": [
      "number of words that occured minimum 5 times  9959\n",
      "sample words  ['chanc', 'extra', 'scarf', 'elong', 'hunch']\n"
     ]
    }
   ],
   "source": [
    "from gensim.models import Word2Vec\n",
    "from gensim.models import KeyedVectors\n",
    "\n",
    "# min_count = 5 considers only words that occured atleast 5 times\n",
    "w2v_model=Word2Vec(list_of_sent_train,min_count=5,size=100)\n",
    "w2v_words = list(w2v_model.wv.vocab)\n",
    "print(\"number of words that occured minimum 5 times \",len(w2v_words))\n",
    "print(\"sample words \", w2v_words[0:5])"
   ]
  },
  {
   "cell_type": "code",
   "execution_count": 441,
   "metadata": {},
   "outputs": [],
   "source": [
    "# we are converting a dictionary with word as a key, and the idf as a value\n",
    "dictionary = dict(zip(count_vect_tf_idf.get_feature_names(), list(count_vect_tf_idf.idf_)))"
   ]
  },
  {
   "cell_type": "code",
   "execution_count": 442,
   "metadata": {},
   "outputs": [],
   "source": [
    "# TF-IDF weighted Word2Vec\n",
    "tfidf_feat = count_vect_tf_idf.get_feature_names() # tfidf words/col-names\n",
    "# final_tf_idf is the sparse matrix with row= sentence, col=word and cell_val = tfidf\n",
    "\n",
    "tfidf_sent_vectors_train = []; # the tfidf-w2v for each sentence/review is stored in this list\n",
    "row=0;\n",
    "for sent in (list_of_sent_train): # for each review/sentence \n",
    "    sent_vec = np.zeros(100) # as word vectors are of zero length\n",
    "    weight_sum =0; # num of words with a valid vector in the sentence/review\n",
    "    for word in sent: # for each word in a review/sentence\n",
    "        if word in w2v_words:\n",
    "            vec = w2v_model.wv[word]\n",
    "#             tf_idf = tf_idf_matrix[row, tfidf_feat.index(word)]\n",
    "            # to reduce the computation we are \n",
    "            # dictionary[word] = idf value of word in whole courpus\n",
    "            # sent.count(word) = tf valeus of word in this review\n",
    "            tf_idf = dictionary[word]*(sent.count(word)/len(sent))\n",
    "            sent_vec += (vec * tf_idf)\n",
    "            weight_sum += tf_idf\n",
    "    if weight_sum != 0:\n",
    "        sent_vec /= weight_sum\n",
    "    tfidf_sent_vectors_train.append(sent_vec)\n",
    "    row += 1\n",
    "tfidf_sent_vectors_train=normalize(tfidf_sent_vectors_train, axis=1, norm='max')"
   ]
  },
  {
   "cell_type": "code",
   "execution_count": 443,
   "metadata": {},
   "outputs": [],
   "source": [
    "if os.path.isfile('cross_validation.sqlite'):\n",
    "    conn = sqlite3.connect('cross_validation.sqlite')\n",
    "    final_cross_validation = pd.read_sql_query(\"\"\" SELECT * FROM Reviews WHERE Score != 3 \"\"\", conn)\n",
    "    conn.close()"
   ]
  },
  {
   "cell_type": "code",
   "execution_count": 444,
   "metadata": {},
   "outputs": [],
   "source": [
    "i=0\n",
    "list_of_sent_cv=[]\n",
    "for sent in final_cross_validation['CleanedText'].values:\n",
    "    list_of_sent_cv.append(sent.split())"
   ]
  },
  {
   "cell_type": "code",
   "execution_count": 445,
   "metadata": {},
   "outputs": [],
   "source": [
    "tfidf_sent_vectors_cv = []; # the tfidf-w2v for each sentence/review is stored in this list\n",
    "row=0;\n",
    "for sent in (list_of_sent_cv): # for each review/sentence \n",
    "    sent_vec = np.zeros(100) # as word vectors are of zero length\n",
    "    weight_sum =0; # num of words with a valid vector in the sentence/review\n",
    "    for word in sent: # for each word in a review/sentence\n",
    "        if word in w2v_words:\n",
    "            vec = w2v_model.wv[word]\n",
    "#             tf_idf = tf_idf_matrix[row, tfidf_feat.index(word)]\n",
    "            # to reduce the computation we are \n",
    "            # dictionary[word] = idf value of word in whole courpus\n",
    "            # sent.count(word) = tf valeus of word in this review\n",
    "            tf_idf = dictionary[word]*(sent.count(word)/len(sent))\n",
    "            sent_vec += (vec * tf_idf)\n",
    "            weight_sum += tf_idf\n",
    "    if weight_sum != 0:\n",
    "        sent_vec /= weight_sum\n",
    "    tfidf_sent_vectors_cv.append(sent_vec)\n",
    "    row += 1\n",
    "from sklearn.preprocessing import normalize\n",
    "tfidf_sent_vectors_cv=normalize(tfidf_sent_vectors_cv, axis=1, norm='max')"
   ]
  },
  {
   "cell_type": "code",
   "execution_count": 446,
   "metadata": {},
   "outputs": [],
   "source": [
    "if os.path.isfile('test.sqlite'):\n",
    "    conn = sqlite3.connect('test.sqlite')\n",
    "    test = pd.read_sql_query(\"\"\" SELECT * FROM Reviews WHERE Score != 3 \"\"\", conn)\n",
    "    conn.close()\n",
    "else:\n",
    "    print(\"Please the above cell\")"
   ]
  },
  {
   "cell_type": "code",
   "execution_count": 447,
   "metadata": {},
   "outputs": [],
   "source": [
    "i=0\n",
    "list_of_sent_test=[]\n",
    "for sent in test['CleanedText'].values:\n",
    "    list_of_sent_test.append(sent.split())"
   ]
  },
  {
   "cell_type": "code",
   "execution_count": 448,
   "metadata": {},
   "outputs": [],
   "source": [
    "tfidf_sent_vectors_test = []; # the tfidf-w2v for each sentence/review is stored in this list\n",
    "row=0;\n",
    "for sent in (list_of_sent_test): # for each review/sentence \n",
    "    sent_vec = np.zeros(100) # as word vectors are of zero length\n",
    "    weight_sum =0; # num of words with a valid vector in the sentence/review\n",
    "    for word in sent: # for each word in a review/sentence\n",
    "        if word in w2v_words:\n",
    "            vec = w2v_model.wv[word]\n",
    "#             tf_idf = tf_idf_matrix[row, tfidf_feat.index(word)]\n",
    "            # to reduce the computation we are \n",
    "            # dictionary[word] = idf value of word in whole courpus\n",
    "            # sent.count(word) = tf valeus of word in this review\n",
    "            tf_idf = dictionary[word]*(sent.count(word)/len(sent))\n",
    "            sent_vec += (vec * tf_idf)\n",
    "            weight_sum += tf_idf\n",
    "    if weight_sum != 0:\n",
    "        sent_vec /= weight_sum\n",
    "    tfidf_sent_vectors_test.append(sent_vec)\n",
    "    row += 1\n",
    "tfidf_sent_vectors_test=normalize(tfidf_sent_vectors_test, axis=1, norm='max')"
   ]
  },
  {
   "cell_type": "markdown",
   "metadata": {},
   "source": [
    "## Applying Logistic Classifier on TF-IDF-Word2Vec"
   ]
  },
  {
   "cell_type": "code",
   "execution_count": 449,
   "metadata": {},
   "outputs": [],
   "source": [
    "#import LogisticRegression Classifier\n",
    "\n",
    "l=[10**-5,10**-4,10**-3,10**-2,10**-1,1,10**1,10**2,10**3,10**4,10**5]\n",
    "\n",
    "#Store Auc value for  train \n",
    "roc_val_cv_l1 = np.empty(len(l))\n",
    "\n",
    "roc_val_train_l1 = np.empty(len(l))\n",
    "\n",
    "#Store Auc value for  train \n",
    "roc_val_cv_l2 = np.empty(len(l))\n",
    "\n",
    "roc_val_train_l2 = np.empty(len(l))\n",
    "\n",
    "\n",
    "for i,k in enumerate((l)):\n",
    "    #Setup a Logistice Regression Classifier for L1 nd L2 Regulizer\n",
    "    model_l1 = LogisticRegression(penalty='l1',C=k,class_weight='balanced')\n",
    "    model_l2 = LogisticRegression(penalty='l2',C=k,class_weight='balanced')\n",
    "    \n",
    "    #Store the predicted class labels for Train data\n",
    "    y_pred_train_l1 = []\n",
    "    y_pred_proba_train_l1=[]\n",
    "    #Store the predicted class labels for Train data\n",
    "    y_pred_train_l2 = []\n",
    "    y_pred_proba_train_l2=[]\n",
    "    \n",
    "    #Fit the model\n",
    "    model_l1.fit(tfidf_sent_vectors_train, train_label)\n",
    "    #Fit the model\n",
    "    model_l2.fit(tfidf_sent_vectors_train, train_label)\n",
    "    \n",
    "    #Predict the Class label in Train data\n",
    "    y_pred_train_l1=model_l1.predict(tfidf_sent_vectors_train)\n",
    "    #Predict the Class label in Train data\n",
    "    y_pred_train_l2=model_l2.predict(tfidf_sent_vectors_train)\n",
    "    \n",
    "    \n",
    "    #Compute the Prob Scores for ROC for Train\n",
    "    y_pred_proba_train_l1 = model_l1.predict_proba(tfidf_sent_vectors_train)[:,1]\n",
    "\n",
    "    roc_val_train_l1[i] = roc_auc_score(train_label,y_pred_proba_train_l1)\n",
    "    \n",
    "    #Compute the Prob Scores for ROC for Train\n",
    "    y_pred_proba_train_l2 = model_l2.predict_proba(tfidf_sent_vectors_train)[:,1]\n",
    "\n",
    "    roc_val_train_l2[i] = roc_auc_score(train_label,y_pred_proba_train_l2)"
   ]
  },
  {
   "cell_type": "code",
   "execution_count": 450,
   "metadata": {},
   "outputs": [],
   "source": [
    "#Performing Hyper parameter tuning for finding the best Lambda using simple cross validation.\n",
    "\n",
    "for i,k in enumerate((l)):\n",
    "    #Setup a Logistice Regression Classifier for L1 nd L2 Regulizer\n",
    "    model_l1 = LogisticRegression(penalty='l1',C=k,class_weight='balanced')\n",
    "    model_l2 = LogisticRegression(penalty='l2',C=k,class_weight='balanced')\n",
    "    \n",
    "    #Store the predicted class labels for CV\n",
    "    y_pred_cv_l1 = []\n",
    "    y_pred_proba_cv_l1=[]\n",
    "    y_pred_cv_l2 = []\n",
    "    y_pred_proba_cv_l2=[]\n",
    "    \n",
    "    #Fit the model\n",
    "    model_l1.fit(tfidf_sent_vectors_train, train_label)\n",
    "    model_l2.fit(tfidf_sent_vectors_train, train_label)\n",
    "    \n",
    "    #Predict the Class label in CV data\n",
    "    for d in range(0, 20000, 2000):\n",
    "        y_pred_cv_l1.extend(model_l1.predict(tfidf_sent_vectors_cv[d:d+2000]))\n",
    "        \n",
    "    for d in range(0, 20000, 2000):\n",
    "        y_pred_cv_l1.extend(model_l2.predict(tfidf_sent_vectors_cv[d:d+2000]))\n",
    "        \n",
    "    #Compute the Prob Scores for ROC for CV\n",
    "    y_pred_proba_cv_l1 = model_l1.predict_proba(tfidf_sent_vectors_cv)[:,1]\n",
    "    \n",
    "    roc_val_cv_l1[i] = roc_auc_score(cv_label,y_pred_proba_cv_l1)\n",
    "    \n",
    "    #Compute the Prob Scores for ROC for CV\n",
    "    y_pred_proba_cv_l2 = model_l2.predict_proba(tfidf_sent_vectors_cv)[:,1]\n",
    "    \n",
    "    roc_val_cv_l2[i] = roc_auc_score(cv_label,y_pred_proba_cv_l2)"
   ]
  },
  {
   "cell_type": "code",
   "execution_count": 451,
   "metadata": {},
   "outputs": [],
   "source": [
    "l1_log=[np.log(i) for i in l]\n",
    "\n",
    "l2_log=[np.log(i) for i in l]"
   ]
  },
  {
   "cell_type": "code",
   "execution_count": 452,
   "metadata": {},
   "outputs": [
    {
     "data": {
      "image/png": "[encoded data removed]",
      "text/plain": [
       "<Figure size 432x288 with 1 Axes>"
      ]
     },
     "metadata": {},
     "output_type": "display_data"
    }
   ],
   "source": [
    "#Elbow Plot for determining the optimal value of Lambda using L1 regulizer\n",
    "plt.title('Elbow Plot for determining the optimal value of Lamba using L1 Regulizer')\n",
    "plt.plot(l1_log, roc_val_cv_l1, label='Cross Validation AUC Score Curve')\n",
    "plt.plot(l1_log, roc_val_train_l1, label='Train AUC Score Curve')\n",
    "plt.legend()\n",
    "plt.xlabel('Varying values of Lambda')\n",
    "plt.ylabel('AUC Scores')\n",
    "plt.grid()\n",
    "plt.show()"
   ]
  },
  {
   "cell_type": "code",
   "execution_count": 453,
   "metadata": {},
   "outputs": [
    {
     "data": {
      "image/png": "[encoded data removed]",
      "text/plain": [
       "<Figure size 432x288 with 1 Axes>"
      ]
     },
     "metadata": {},
     "output_type": "display_data"
    }
   ],
   "source": [
    "#Elbow Plot for determining the optimal value of Alpha\n",
    "plt.title('Elbow Plot for determining the optimal value of Lamba using L2 Regulizer')\n",
    "plt.plot(l2_log, roc_val_cv_l2, label='Cross Validation AUC Score Curve')\n",
    "plt.plot(l2_log, roc_val_train_l2, label='Train AUC Score Curve')\n",
    "plt.legend()\n",
    "plt.xlabel('Varying values of Lambda Hyperparameter')\n",
    "plt.ylabel('AUC Scores')\n",
    "plt.grid()\n",
    "plt.show()"
   ]
  },
  {
   "cell_type": "markdown",
   "metadata": {},
   "source": [
    "### Fitting the Test Data using optimal lambda and applying Logistic Regression Classifier"
   ]
  },
  {
   "cell_type": "code",
   "execution_count": 454,
   "metadata": {},
   "outputs": [],
   "source": [
    "final_l1=np.exp(-5.5)\n",
    "final_l2=np.exp(-5.5)"
   ]
  },
  {
   "cell_type": "code",
   "execution_count": 455,
   "metadata": {},
   "outputs": [
    {
     "data": {
      "image/png": "[encoded data removed]",
      "text/plain": [
       "<Figure size 432x288 with 1 Axes>"
      ]
     },
     "metadata": {},
     "output_type": "display_data"
    },
    {
     "name": "stdout",
     "output_type": "stream",
     "text": [
      " AUC value for Test Data for Optimal Lambda using L1 Regulizer is 0.8729727007119638\n",
      " AUC value for Training Data for Optimal Lambda using L1 Regulizer 0.8752010518384385\n"
     ]
    }
   ],
   "source": [
    "# Applying Optimal Value of Lambda obtained from simple cross validation on test data for L1 and L2 regulizer\n",
    "\n",
    "final_model_l1 = LogisticRegression(penalty='l1',C=final_l1,class_weight='balanced')\n",
    "final_model_l2 = LogisticRegression(penalty='l2',C=final_l2,class_weight='balanced')\n",
    "\n",
    "#Store the predicted class labels and prob scores for Test data\n",
    "y_pred_test_l1 = []\n",
    "y_pred_proba_test_l1=[]\n",
    "y_pred_train_l1 = []\n",
    "y_pred_proba_train_l1=[]\n",
    "y_pred_test_l2 = []\n",
    "y_pred_proba_test_l2=[]\n",
    "y_pred_train_l2 = []\n",
    "y_pred_proba_train_l2=[]\n",
    "    \n",
    "#Fit the model\n",
    "final_model_l1.fit(tfidf_sent_vectors_train, train_label)\n",
    "final_model_l2.fit(tfidf_sent_vectors_train, train_label)\n",
    "    \n",
    "#Predict the Class label in Test data\n",
    "for d in range(0, 20000, 2000):\n",
    "    y_pred_test_l1.extend(final_model_l1.predict(tfidf_sent_vectors_test[d:d+2000]))\n",
    "    \n",
    "#Compute the Prob Scores for ROC for Test\n",
    "y_pred_proba_test_l1 = final_model_l1.predict_proba(tfidf_sent_vectors_test)[:,1]\n",
    "\n",
    "#Predict the Class label in Test data\n",
    "for d in range(0, 20000, 2000):\n",
    "    y_pred_test_l2.extend(final_model_l2.predict(tfidf_sent_vectors_test[d:d+2000]))\n",
    "    \n",
    "#Compute the Prob Scores for ROC for Test\n",
    "y_pred_proba_test_l2 = final_model_l2.predict_proba(tfidf_sent_vectors_test)[:,1]\n",
    "\n",
    "fpr1_l1, tpr1_l1, thresholds = roc_curve(test_label,y_pred_proba_test_l1)\n",
    "roc_val_test_l1 = roc_auc_score(test_label,y_pred_proba_test_l1)\n",
    "\n",
    "fpr1_l2, tpr1_l2, thresholds = roc_curve(test_label,y_pred_proba_test_l2)\n",
    "roc_val_test_l2 = roc_auc_score(test_label,y_pred_proba_test_l2)\n",
    "\n",
    "\n",
    "#Predict the Class label in Train data\n",
    "y_pred_train_l1=final_model_l1.predict(tfidf_sent_vectors_train)\n",
    "y_pred_proba_train_l1=final_model_l1.predict_proba(tfidf_sent_vectors_train)[:,1]\n",
    "\n",
    "#Predict the Class label in Train data\n",
    "y_pred_train_l2=final_model_l2.predict(tfidf_sent_vectors_train)\n",
    "y_pred_proba_train_l2=final_model_l2.predict_proba(tfidf_sent_vectors_train)[:,1]\n",
    "\n",
    "fpr2_l1, tpr2_l1, thresholds = roc_curve(train_label,y_pred_proba_train_l1)\n",
    "roc_val_train_l1 = roc_auc_score(train_label,y_pred_proba_train_l1)\n",
    "\n",
    "fpr2_l2, tpr2_l2, thresholds = roc_curve(train_label,y_pred_proba_train_l2)\n",
    "roc_val_train_l2 = roc_auc_score(train_label,y_pred_proba_train_l2)\n",
    "\n",
    "plt.plot([0,1],[0,1],'k--')\n",
    "plt.plot(fpr1_l1,tpr1_l1, label='ROC Curve for Test Data using L1')\n",
    "plt.plot(fpr2_l1,tpr2_l1, label='ROC Curve for Training Data using L1')\n",
    "plt.xlabel('fpr')\n",
    "plt.ylabel('tpr')\n",
    "plt.legend()\n",
    "plt.grid()\n",
    "plt.title('ROC curve with optimal value of Lambda using L1 Regulizer = {}' . format(final_l1))\n",
    "plt.show()\n",
    "\n",
    "print (\" AUC value for Test Data for Optimal Lambda using L1 Regulizer is {}\".format(roc_val_test_l1))\n",
    "print (\" AUC value for Training Data for Optimal Lambda using L1 Regulizer {}\".format(roc_val_train_l1))"
   ]
  },
  {
   "cell_type": "code",
   "execution_count": 456,
   "metadata": {},
   "outputs": [
    {
     "name": "stdout",
     "output_type": "stream",
     "text": [
      "Classification Report using L1 Regulizer: \n",
      "             precision    recall  f1-score   support\n",
      "\n",
      "          0       0.35      0.82      0.49      2678\n",
      "          1       0.97      0.77      0.85     17322\n",
      "\n",
      "avg / total       0.88      0.77      0.81     20000\n",
      "\n",
      "----------------------------\n"
     ]
    },
    {
     "data": {
      "image/png": "[encoded data removed]",
      "text/plain": [
       "<Figure size 432x288 with 2 Axes>"
      ]
     },
     "metadata": {},
     "output_type": "display_data"
    }
   ],
   "source": [
    "#Classification Report\n",
    "#import classification_report\n",
    "from sklearn.metrics import classification_report\n",
    "print(\"Classification Report using L1 Regulizer: \")\n",
    "print(\"{}\".format(classification_report(test_label,y_pred_test_l1)))\n",
    "print(\"----------------------------\")\n",
    "\n",
    "#Source : https://stackoverflow.com/questions/19233771/sklearn-plot-confusion-matrix-with-labels\n",
    "#Confusion matrix using Heat Map\n",
    "from sklearn.metrics import confusion_matrix\n",
    "labels = ['0', '1']\n",
    "cm = confusion_matrix(test_label, y_pred_test_l1)\n",
    "sns.heatmap(cm,annot=True,fmt='2.0f')\n",
    "plt.title('Confusion matrix of the classifier for L1')\n",
    "plt.xlabel('Predicted')\n",
    "plt.ylabel('True')\n",
    "plt.show()"
   ]
  },
  {
   "cell_type": "code",
   "execution_count": 457,
   "metadata": {},
   "outputs": [
    {
     "data": {
      "image/png": "[encoded data removed]",
      "text/plain": [
       "<Figure size 432x288 with 1 Axes>"
      ]
     },
     "metadata": {},
     "output_type": "display_data"
    },
    {
     "name": "stdout",
     "output_type": "stream",
     "text": [
      " AUC value for Test Data for Optimal Lambda using L2 Regulizer  is 0.8836113925756649\n",
      " AUC value for Training Data for Optimal Lambda using L2 Regulizer is 0.8845005674113112\n"
     ]
    }
   ],
   "source": [
    "plt.plot([0,1],[0,1],'k--')\n",
    "plt.plot(fpr1_l2,tpr1_l2, label='ROC Curve for Test Data using L2')\n",
    "plt.plot(fpr2_l2,tpr2_l2, label='ROC Curve for Training Data using L2')\n",
    "plt.xlabel('fpr')\n",
    "plt.ylabel('tpr')\n",
    "plt.legend()\n",
    "plt.grid()\n",
    "plt.title('ROC curve with optimal Lambda using L2 Regulizer  = {}' . format(final_l2))\n",
    "plt.show()\n",
    "\n",
    "print (\" AUC value for Test Data for Optimal Lambda using L2 Regulizer  is {}\".format(roc_val_test_l2))\n",
    "print (\" AUC value for Training Data for Optimal Lambda using L2 Regulizer is {}\".format(roc_val_train_l2))"
   ]
  },
  {
   "cell_type": "code",
   "execution_count": 458,
   "metadata": {},
   "outputs": [
    {
     "name": "stdout",
     "output_type": "stream",
     "text": [
      "Classification Report using L2 Regulizer: \n",
      "             precision    recall  f1-score   support\n",
      "\n",
      "          0       0.37      0.83      0.51      2678\n",
      "          1       0.97      0.78      0.87     17322\n",
      "\n",
      "avg / total       0.89      0.79      0.82     20000\n",
      "\n",
      "----------------------------\n"
     ]
    },
    {
     "data": {
      "image/png": "[encoded data removed]",
      "text/plain": [
       "<Figure size 432x288 with 2 Axes>"
      ]
     },
     "metadata": {},
     "output_type": "display_data"
    }
   ],
   "source": [
    "#Classification Report\n",
    "print(\"Classification Report using L2 Regulizer: \")\n",
    "print(\"{}\".format(classification_report(test_label,y_pred_test_l2)))\n",
    "print(\"----------------------------\")\n",
    "\n",
    "#Source : https://stackoverflow.com/questions/19233771/sklearn-plot-confusion-matrix-with-labels\n",
    "#Confusion matrix using Heat Map\n",
    "labels = ['0', '1']\n",
    "cm = confusion_matrix(test_label, y_pred_test_l2)\n",
    "sns.heatmap(cm,annot=True,fmt='2.0f')\n",
    "plt.title('Confusion matrix of the classifier using L2 regulizer')\n",
    "plt.xlabel('Predicted')\n",
    "plt.ylabel('True')\n",
    "plt.show()"
   ]
  },
  {
   "cell_type": "markdown",
   "metadata": {},
   "source": [
    "### TOP 20 MOST IMPORTANT FEATURES\n",
    "\n"
   ]
  },
  {
   "cell_type": "code",
   "execution_count": 459,
   "metadata": {},
   "outputs": [
    {
     "name": "stdout",
     "output_type": "stream",
     "text": [
      "Top 20 negative features\n",
      "\n",
      "(-0.7351461343158137, 'casbah')\n",
      "(-0.7273651095965924, 'mud')\n",
      "(-0.6871397973314554, 'hong')\n",
      "(-0.6639340104283586, 'conserv')\n",
      "(-0.42073561541415055, 'snappl')\n",
      "(-0.3784146305623709, 'marriag')\n",
      "(-0.37680144063275955, 'acai')\n",
      "(-0.2882884331436979, 'depress')\n",
      "(-0.25603930017437304, 'buttercream')\n",
      "(-0.24719635398076287, 'gel')\n",
      "(-0.2375293225634183, 'besid')\n",
      "(-0.20891461909229742, 'inform')\n",
      "(-0.19342607067972487, 'bouquet')\n",
      "(-0.19213466084879235, 'chanc')\n",
      "(-0.1809776739850665, 'acquir')\n",
      "(-0.1646460485192448, 'escap')\n",
      "(-0.16286656157023977, 'dougla')\n",
      "(-0.16206282896456367, 'flood')\n",
      "(-0.14171987370546923, 'cylind')\n",
      "(-0.1323244558049272, 'caviar')\n",
      "\n",
      "************************\n",
      "\n",
      "Top 20 positive features\n",
      "\n",
      "(1.0949078011538362, 'electr')\n",
      "(0.8790697107478184, 'weigh')\n",
      "(0.868416758404338, 'parchment')\n",
      "(0.7575028899736154, 'snackmast')\n",
      "(0.7438899803888883, 'pallet')\n",
      "(0.7053109812841648, 'privileg')\n",
      "(0.659837830809745, 'skittl')\n",
      "(0.4561625111008019, 'discard')\n",
      "(0.44608880837602166, 'whopper')\n",
      "(0.41674696123666055, 'merchant')\n",
      "(0.4085788033485259, 'amout')\n",
      "(0.3837230547385403, 'condition')\n",
      "(0.22635568227579114, 'thrill')\n",
      "(0.13310140746979415, 'longtim')\n",
      "(0.09407339318386716, 'noodl')\n",
      "(0.0693559792941968, 'manhattan')\n",
      "(0.05297539790045575, 'hunch')\n",
      "(0.009492472675751788, 'clover')\n",
      "(0.008367665569270943, 'monster')\n",
      "(0.0, 'valrhona')\n"
     ]
    }
   ],
   "source": [
    "#Source : https://stackoverflow.com/questions/11116697/how-to-get-most-informative-features-for-scikit-learn-classifiers\n",
    "def most_informative_feature_for_binary_classification(vectorizer, classifier):\n",
    "    class_labels = classifier.classes_\n",
    "    feature_names = w2v_model.wv.vocab\n",
    "    coefs = sorted(zip(classifier.coef_[0], feature_names))\n",
    "    topn_class1 = coefs[:20]\n",
    "    topn_class2 = coefs[:-(21):-1]\n",
    "\n",
    "    print(\"Top 20 negative features\\n\")\n",
    "    for i in topn_class1:\n",
    "        print(i)\n",
    "\n",
    "    print(\"\\n************************\\n\")\n",
    "    print(\"Top 20 positive features\\n\")\n",
    "    for i in topn_class2:\n",
    "        print(i)\n",
    "    \n",
    "most_informative_feature_for_binary_classification(w2v_model,final_model_l1)"
   ]
  },
  {
   "cell_type": "markdown",
   "metadata": {},
   "source": [
    "## Featurization using AVG-Word2Vec"
   ]
  },
  {
   "cell_type": "code",
   "execution_count": 460,
   "metadata": {},
   "outputs": [
    {
     "name": "stdout",
     "output_type": "stream",
     "text": [
      "60000\n",
      "100\n"
     ]
    }
   ],
   "source": [
    "# average Word2Vec for train data\n",
    "# compute average word2vec for each review.\n",
    "sent_vectors_train = []; # the avg-w2v for each sentence/review is stored in this list\n",
    "for sent in (list_of_sent_train): # for each review/sentence\n",
    "    sent_vec = np.zeros(100) # as word vectors are of zero length\n",
    "    cnt_words =0; # num of words with a valid vector in the sentence/review\n",
    "    for word in sent: # for each word in a review/sentence\n",
    "        if word in w2v_words:\n",
    "            vec = w2v_model.wv[word]\n",
    "            sent_vec += vec\n",
    "            cnt_words += 1\n",
    "    if cnt_words != 0:\n",
    "        sent_vec /= cnt_words\n",
    "    sent_vectors_train.append(sent_vec)\n",
    "print(len(sent_vectors_train))\n",
    "print(len(sent_vectors_train[0]))\n",
    "sent_vectors_train=normalize(sent_vectors_train, axis=1, norm='max')"
   ]
  },
  {
   "cell_type": "code",
   "execution_count": 461,
   "metadata": {},
   "outputs": [
    {
     "name": "stdout",
     "output_type": "stream",
     "text": [
      "20000\n",
      "100\n"
     ]
    }
   ],
   "source": [
    "# average Word2Vec for CV data\n",
    "# compute average word2vec for each review.\n",
    "sent_vectors_cv = []; # the avg-w2v for each sentence/review is stored in this list\n",
    "for sent in (list_of_sent_cv): # for each review/sentence\n",
    "    sent_vec = np.zeros(100) # as word vectors are of zero length\n",
    "    cnt_words =0; # num of words with a valid vector in the sentence/review\n",
    "    for word in sent: # for each word in a review/sentence\n",
    "        if word in w2v_words:\n",
    "            vec = w2v_model.wv[word]\n",
    "            sent_vec += vec\n",
    "            cnt_words += 1\n",
    "    if cnt_words != 0:\n",
    "        sent_vec /= cnt_words\n",
    "    sent_vectors_cv.append(sent_vec)\n",
    "print(len(sent_vectors_cv))\n",
    "print(len(sent_vectors_cv[0]))\n",
    "sent_vectors_cv=normalize(sent_vectors_cv, axis=1, norm='max')"
   ]
  },
  {
   "cell_type": "code",
   "execution_count": 462,
   "metadata": {},
   "outputs": [
    {
     "name": "stdout",
     "output_type": "stream",
     "text": [
      "20000\n",
      "100\n"
     ]
    }
   ],
   "source": [
    "# average Word2Vec Test train data\n",
    "# compute average word2vec for each review.\n",
    "sent_vectors_test = []; # the avg-w2v for each sentence/review is stored in this list\n",
    "for sent in (list_of_sent_test): # for each review/sentence\n",
    "    sent_vec = np.zeros(100) # as word vectors are of zero length\n",
    "    cnt_words =0; # num of words with a valid vector in the sentence/review\n",
    "    for word in sent: # for each word in a review/sentence\n",
    "        if word in w2v_words:\n",
    "            vec = w2v_model.wv[word]\n",
    "            sent_vec += vec\n",
    "            cnt_words += 1\n",
    "    if cnt_words != 0:\n",
    "        sent_vec /= cnt_words\n",
    "    sent_vectors_test.append(sent_vec)\n",
    "print(len(sent_vectors_test))\n",
    "print(len(sent_vectors_test[0]))\n",
    "sent_vectors_test=normalize(sent_vectors_test, axis=1, norm='max')"
   ]
  },
  {
   "cell_type": "markdown",
   "metadata": {},
   "source": [
    "## Applying Logistic Regression Classifier on AVG-Word2Vec"
   ]
  },
  {
   "cell_type": "code",
   "execution_count": 463,
   "metadata": {},
   "outputs": [],
   "source": [
    "l=[10**-5,10**-4,10**-3,10**-2,10**-1,1,10**1,10**2,10**3,10**4,10**5]\n",
    "\n",
    "#Store Auc value for  train \n",
    "roc_val_cv_l1 = np.empty(len(l))\n",
    "\n",
    "roc_val_train_l1 = np.empty(len(l))\n",
    "\n",
    "#Store Auc value for  train \n",
    "roc_val_cv_l2 = np.empty(len(l))\n",
    "\n",
    "roc_val_train_l2 = np.empty(len(l))\n",
    "\n",
    "\n",
    "for i,k in enumerate((l)):\n",
    "    #Setup a Logistice Regression Classifier for L1 nd L2 Regulizer\n",
    "    model_l1 = LogisticRegression(penalty='l1',C=k,class_weight='balanced')\n",
    "    model_l2 = LogisticRegression(penalty='l2',C=k,class_weight='balanced')\n",
    "    \n",
    "    #Store the predicted class labels for Train data\n",
    "    y_pred_train_l1 = []\n",
    "    y_pred_proba_train_l1=[]\n",
    "    #Store the predicted class labels for Train data\n",
    "    y_pred_train_l2 = []\n",
    "    y_pred_proba_train_l2=[]\n",
    "    \n",
    "    #Fit the model\n",
    "    model_l1.fit(sent_vectors_train, train_label)\n",
    "    #Fit the model\n",
    "    model_l2.fit(sent_vectors_train, train_label)\n",
    "    \n",
    "    #Predict the Class label in Train data\n",
    "    y_pred_train_l1=model_l1.predict(sent_vectors_train)\n",
    "    #Predict the Class label in Train data\n",
    "    y_pred_train_l2=model_l2.predict(sent_vectors_train)\n",
    "    \n",
    "    \n",
    "    #Compute the Prob Scores for ROC for Train\n",
    "    y_pred_proba_train_l1 = model_l1.predict_proba(sent_vectors_train)[:,1]\n",
    "\n",
    "    roc_val_train_l1[i] = roc_auc_score(train_label,y_pred_proba_train_l1)\n",
    "    \n",
    "    #Compute the Prob Scores for ROC for Train\n",
    "    y_pred_proba_train_l2 = model_l2.predict_proba(sent_vectors_train)[:,1]\n",
    "\n",
    "    roc_val_train_l2[i] = roc_auc_score(train_label,y_pred_proba_train_l2)"
   ]
  },
  {
   "cell_type": "code",
   "execution_count": 464,
   "metadata": {},
   "outputs": [],
   "source": [
    "#Performing Hyper parameter tuning for finding the best Lambda using simple cross validation.\n",
    "\n",
    "for i,k in enumerate((l)):\n",
    "    #Setup a Logistice Regression Classifier for L1 nd L2 Regulizer\n",
    "    model_l1 = LogisticRegression(penalty='l1',C=k,class_weight='balanced')\n",
    "    model_l2 = LogisticRegression(penalty='l2',C=k,class_weight='balanced')\n",
    "    \n",
    "    #Store the predicted class labels for CV\n",
    "    y_pred_cv_l1 = []\n",
    "    y_pred_proba_cv_l1=[]\n",
    "    y_pred_cv_l2 = []\n",
    "    y_pred_proba_cv_l2=[]\n",
    "    \n",
    "    #Fit the model\n",
    "    model_l1.fit(sent_vectors_train, train_label)\n",
    "    model_l2.fit(sent_vectors_train, train_label)\n",
    "    \n",
    "    #Predict the Class label in CV data\n",
    "    for d in range(0, 20000, 2000):\n",
    "        y_pred_cv_l1.extend(model_l1.predict(sent_vectors_cv[d:d+2000]))\n",
    "        \n",
    "    for d in range(0, 20000, 2000):\n",
    "        y_pred_cv_l1.extend(model_l2.predict(sent_vectors_cv[d:d+2000]))\n",
    "        \n",
    "    #Compute the Prob Scores for ROC for CV\n",
    "    y_pred_proba_cv_l1 = model_l1.predict_proba(sent_vectors_cv)[:,1]\n",
    "    \n",
    "    roc_val_cv_l1[i] = roc_auc_score(cv_label,y_pred_proba_cv_l1)\n",
    "    \n",
    "    #Compute the Prob Scores for ROC for CV\n",
    "    y_pred_proba_cv_l2 = model_l2.predict_proba(sent_vectors_cv)[:,1]\n",
    "    \n",
    "    roc_val_cv_l2[i] = roc_auc_score(cv_label,y_pred_proba_cv_l2)"
   ]
  },
  {
   "cell_type": "code",
   "execution_count": 465,
   "metadata": {},
   "outputs": [],
   "source": [
    "l1_log=[np.log(i) for i in l]\n",
    "\n",
    "l2_log=[np.log(i) for i in l]"
   ]
  },
  {
   "cell_type": "code",
   "execution_count": 466,
   "metadata": {},
   "outputs": [
    {
     "data": {
      "image/png": "[encoded data removed]",
      "text/plain": [
       "<Figure size 432x288 with 1 Axes>"
      ]
     },
     "metadata": {},
     "output_type": "display_data"
    }
   ],
   "source": [
    "#Elbow Plot for determining the optimal value of Lambda using L1 regulizer\n",
    "plt.title('Elbow Plot for determining the optimal value of Lamba using L1 Regulizer')\n",
    "plt.plot(l1_log, roc_val_cv_l1, label='Cross Validation AUC Score Curve')\n",
    "plt.plot(l1_log, roc_val_train_l1, label='Train AUC Score Curve')\n",
    "plt.legend()\n",
    "plt.xlabel('Varying values of Lambda')\n",
    "plt.ylabel('AUC Scores')\n",
    "plt.grid()\n",
    "plt.show()"
   ]
  },
  {
   "cell_type": "code",
   "execution_count": 467,
   "metadata": {},
   "outputs": [
    {
     "data": {
      "image/png": "[encoded data removed]",
      "text/plain": [
       "<Figure size 432x288 with 1 Axes>"
      ]
     },
     "metadata": {},
     "output_type": "display_data"
    }
   ],
   "source": [
    "#Elbow Plot for determining the optimal value of Alpha\n",
    "plt.title('Elbow Plot for determining the optimal value of Lamba using L2 Regulizer')\n",
    "plt.plot(l2_log, roc_val_cv_l2, label='Cross Validation AUC Score Curve')\n",
    "plt.plot(l2_log, roc_val_train_l2, label='Train AUC Score Curve')\n",
    "plt.legend()\n",
    "plt.xlabel('Varying values of Lambda Hyperparameter')\n",
    "plt.ylabel('AUC Scores')\n",
    "plt.grid()\n",
    "plt.show()"
   ]
  },
  {
   "cell_type": "markdown",
   "metadata": {},
   "source": [
    "### Fitting the Test Data using optimal lambda and applying Logistic Regression Classifier"
   ]
  },
  {
   "cell_type": "code",
   "execution_count": 479,
   "metadata": {},
   "outputs": [],
   "source": [
    "final_l1=np.exp(-5.5)\n",
    "final_l2=np.exp(-2.5)"
   ]
  },
  {
   "cell_type": "code",
   "execution_count": 480,
   "metadata": {},
   "outputs": [
    {
     "data": {
      "image/png": "[encoded data removed]",
      "text/plain": [
       "<Figure size 432x288 with 1 Axes>"
      ]
     },
     "metadata": {},
     "output_type": "display_data"
    },
    {
     "name": "stdout",
     "output_type": "stream",
     "text": [
      " AUC value for Test Data for Optimal Lambda using L1 Regulizer is 0.902025943343147\n",
      " AUC value for Training Data for Optimal Lambda using L1 Regulizer 0.89981945787827\n"
     ]
    }
   ],
   "source": [
    "# Applying Optimal Value of Lambda obtained from simple cross validation on test data for L1 and L2 regulizer\n",
    "\n",
    "final_model_l1 = LogisticRegression(penalty='l1',C=final_l1,class_weight='balanced')\n",
    "final_model_l2 = LogisticRegression(penalty='l2',C=final_l2,class_weight='balanced')\n",
    "\n",
    "#Store the predicted class labels and prob scores for Test data\n",
    "y_pred_test_l1 = []\n",
    "y_pred_proba_test_l1=[]\n",
    "y_pred_train_l1 = []\n",
    "y_pred_proba_train_l1=[]\n",
    "y_pred_test_l2 = []\n",
    "y_pred_proba_test_l2=[]\n",
    "y_pred_train_l2 = []\n",
    "y_pred_proba_train_l2=[]\n",
    "    \n",
    "#Fit the model\n",
    "final_model_l1.fit(sent_vectors_train, train_label)\n",
    "final_model_l2.fit(sent_vectors_train, train_label)\n",
    "    \n",
    "#Predict the Class label in Test data\n",
    "for d in range(0, 20000, 2000):\n",
    "    y_pred_test_l1.extend(final_model_l1.predict(sent_vectors_test[d:d+2000]))\n",
    "    \n",
    "#Compute the Prob Scores for ROC for Test\n",
    "y_pred_proba_test_l1 = final_model_l1.predict_proba(sent_vectors_test)[:,1]\n",
    "\n",
    "#Predict the Class label in Test data\n",
    "for d in range(0, 20000, 2000):\n",
    "    y_pred_test_l2.extend(final_model_l2.predict(sent_vectors_test[d:d+2000]))\n",
    "    \n",
    "#Compute the Prob Scores for ROC for Test\n",
    "y_pred_proba_test_l2 = final_model_l2.predict_proba(sent_vectors_test)[:,1]\n",
    "\n",
    "fpr1_l1, tpr1_l1, thresholds = roc_curve(test_label,y_pred_proba_test_l1)\n",
    "roc_val_test_l1 = roc_auc_score(test_label,y_pred_proba_test_l1)\n",
    "\n",
    "fpr1_l2, tpr1_l2, thresholds = roc_curve(test_label,y_pred_proba_test_l2)\n",
    "roc_val_test_l2 = roc_auc_score(test_label,y_pred_proba_test_l2)\n",
    "\n",
    "\n",
    "#Predict the Class label in Train data\n",
    "y_pred_train_l1=final_model_l1.predict(sent_vectors_train)\n",
    "y_pred_proba_train_l1=final_model_l1.predict_proba(sent_vectors_train)[:,1]\n",
    "\n",
    "#Predict the Class label in Train data\n",
    "y_pred_train_l2=final_model_l2.predict(sent_vectors_train)\n",
    "y_pred_proba_train_l2=final_model_l2.predict_proba(sent_vectors_train)[:,1]\n",
    "\n",
    "fpr2_l1, tpr2_l1, thresholds = roc_curve(train_label,y_pred_proba_train_l1)\n",
    "roc_val_train_l1 = roc_auc_score(train_label,y_pred_proba_train_l1)\n",
    "\n",
    "fpr2_l2, tpr2_l2, thresholds = roc_curve(train_label,y_pred_proba_train_l2)\n",
    "roc_val_train_l2 = roc_auc_score(train_label,y_pred_proba_train_l2)\n",
    "\n",
    "plt.plot([0,1],[0,1],'k--')\n",
    "plt.plot(fpr1_l1,tpr1_l1, label='ROC Curve for Test Data using L1')\n",
    "plt.plot(fpr2_l1,tpr2_l1, label='ROC Curve for Training Data using L1')\n",
    "plt.xlabel('fpr')\n",
    "plt.ylabel('tpr')\n",
    "plt.legend()\n",
    "plt.grid()\n",
    "plt.title('ROC curve with optimal value of Lambda using L1 Regulizer = {}' . format(final_l1))\n",
    "plt.show()\n",
    "\n",
    "print (\" AUC value for Test Data for Optimal Lambda using L1 Regulizer is {}\".format(roc_val_test_l1))\n",
    "print (\" AUC value for Training Data for Optimal Lambda using L1 Regulizer {}\".format(roc_val_train_l1))"
   ]
  },
  {
   "cell_type": "code",
   "execution_count": 481,
   "metadata": {},
   "outputs": [
    {
     "name": "stdout",
     "output_type": "stream",
     "text": [
      "Classification Report using L1 Regulizer: \n",
      "             precision    recall  f1-score   support\n",
      "\n",
      "          0       0.38      0.85      0.53      2678\n",
      "          1       0.97      0.79      0.87     17322\n",
      "\n",
      "avg / total       0.89      0.80      0.82     20000\n",
      "\n",
      "----------------------------\n"
     ]
    },
    {
     "data": {
      "image/png": "[encoded data removed]",
      "text/plain": [
       "<Figure size 432x288 with 2 Axes>"
      ]
     },
     "metadata": {},
     "output_type": "display_data"
    }
   ],
   "source": [
    "#Classification Report\n",
    "#import classification_report\n",
    "from sklearn.metrics import classification_report\n",
    "print(\"Classification Report using L1 Regulizer: \")\n",
    "print(\"{}\".format(classification_report(test_label,y_pred_test_l1)))\n",
    "print(\"----------------------------\")\n",
    "\n",
    "#Source : https://stackoverflow.com/questions/19233771/sklearn-plot-confusion-matrix-with-labels\n",
    "#Confusion matrix using Heat Map\n",
    "from sklearn.metrics import confusion_matrix\n",
    "labels = ['0', '1']\n",
    "cm = confusion_matrix(test_label, y_pred_test_l1)\n",
    "sns.heatmap(cm,annot=True,fmt='2.0f')\n",
    "plt.title('Confusion matrix of the classifier for L1')\n",
    "plt.xlabel('Predicted')\n",
    "plt.ylabel('True')\n",
    "plt.show()"
   ]
  },
  {
   "cell_type": "code",
   "execution_count": 482,
   "metadata": {},
   "outputs": [
    {
     "data": {
      "image/png": "[encoded data removed]",
      "text/plain": [
       "<Figure size 432x288 with 1 Axes>"
      ]
     },
     "metadata": {},
     "output_type": "display_data"
    },
    {
     "name": "stdout",
     "output_type": "stream",
     "text": [
      " AUC value for Test Data for Optimal Lambda using L2 Regulizer  is 0.9131158695219719\n",
      " AUC value for Training Data for Optimal Lambda using L2 Regulizer is 0.910859790217404\n"
     ]
    }
   ],
   "source": [
    "plt.plot([0,1],[0,1],'k--')\n",
    "plt.plot(fpr1_l2,tpr1_l2, label='ROC Curve for Test Data using L2')\n",
    "plt.plot(fpr2_l2,tpr2_l2, label='ROC Curve for Training Data using L2')\n",
    "plt.xlabel('fpr')\n",
    "plt.ylabel('tpr')\n",
    "plt.legend()\n",
    "plt.grid()\n",
    "plt.title('ROC curve with optimal Lambda using L2 Regulizer  = {}' . format(final_l2))\n",
    "plt.show()\n",
    "\n",
    "print (\" AUC value for Test Data for Optimal Lambda using L2 Regulizer  is {}\".format(roc_val_test_l2))\n",
    "print (\" AUC value for Training Data for Optimal Lambda using L2 Regulizer is {}\".format(roc_val_train_l2))"
   ]
  },
  {
   "cell_type": "code",
   "execution_count": 483,
   "metadata": {},
   "outputs": [
    {
     "name": "stdout",
     "output_type": "stream",
     "text": [
      "Classification Report using L2 Regulizer: \n",
      "             precision    recall  f1-score   support\n",
      "\n",
      "          0       0.41      0.87      0.56      2678\n",
      "          1       0.97      0.81      0.88     17322\n",
      "\n",
      "avg / total       0.90      0.81      0.84     20000\n",
      "\n",
      "----------------------------\n"
     ]
    },
    {
     "data": {
      "image/png": "[encoded data removed]",
      "text/plain": [
       "<Figure size 432x288 with 2 Axes>"
      ]
     },
     "metadata": {},
     "output_type": "display_data"
    }
   ],
   "source": [
    "#Classification Report\n",
    "print(\"Classification Report using L2 Regulizer: \")\n",
    "print(\"{}\".format(classification_report(test_label,y_pred_test_l2)))\n",
    "print(\"----------------------------\")\n",
    "\n",
    "#Source : https://stackoverflow.com/questions/19233771/sklearn-plot-confusion-matrix-with-labels\n",
    "#Confusion matrix using Heat Map\n",
    "labels = ['0', '1']\n",
    "cm = confusion_matrix(test_label, y_pred_test_l2)\n",
    "sns.heatmap(cm,annot=True,fmt='2.0f')\n",
    "plt.title('Confusion matrix of the classifier using L2 regulizer')\n",
    "plt.xlabel('Predicted')\n",
    "plt.ylabel('True')\n",
    "plt.show()"
   ]
  },
  {
   "cell_type": "markdown",
   "metadata": {},
   "source": [
    "### TOP 10 MOST IMPORTANT FEATURES\n",
    "\n"
   ]
  },
  {
   "cell_type": "code",
   "execution_count": 484,
   "metadata": {},
   "outputs": [
    {
     "name": "stdout",
     "output_type": "stream",
     "text": [
      "Top 10 negative features\n",
      "\n",
      "(-0.8463230998393908, 'casbah')\n",
      "(-0.6859508321039676, 'mud')\n",
      "(-0.6848743968625568, 'conserv')\n",
      "(-0.6317305261639599, 'depress')\n",
      "(-0.6303012754675461, 'hong')\n",
      "(-0.4849010818887988, 'inform')\n",
      "(-0.4683316770175819, 'marriag')\n",
      "(-0.309259584627081, 'besid')\n",
      "(-0.2976756940462396, 'buttercream')\n",
      "(-0.2972050421754117, 'chanc')\n",
      "\n",
      "************************\n",
      "\n",
      "Top 10 positive features\n",
      "\n",
      "(1.1497043543069676, 'parchment')\n",
      "(1.0851784371266258, 'electr')\n",
      "(0.9487335737771174, 'privileg')\n",
      "(0.8871684769483129, 'pallet')\n",
      "(0.8324548161638458, 'snackmast')\n",
      "(0.8144887704336221, 'weigh')\n",
      "(0.7111344222433292, 'skittl')\n",
      "(0.5909466847984581, 'discard')\n",
      "(0.4352802095824993, 'amout')\n",
      "(0.4265084560441521, 'merchant')\n"
     ]
    }
   ],
   "source": [
    "#Source : https://stackoverflow.com/questions/11116697/how-to-get-most-informative-features-for-scikit-learn-classifiers\n",
    "def most_informative_feature_for_binary_classification(vectorizer, classifier):\n",
    "    class_labels = classifier.classes_\n",
    "    feature_names = w2v_model.wv.vocab\n",
    "    coefs = sorted(zip(classifier.coef_[0], feature_names))\n",
    "    topn_class1 = coefs[:10]\n",
    "    topn_class2 = coefs[:-(11):-1]\n",
    "\n",
    "    print(\"Top 10 negative features\\n\")\n",
    "    for i in topn_class1:\n",
    "        print(i)\n",
    "\n",
    "    print(\"\\n************************\\n\")\n",
    "    print(\"Top 10 positive features\\n\")\n",
    "    for i in topn_class2:\n",
    "        print(i)\n",
    "    \n",
    "most_informative_feature_for_binary_classification(w2v_model,final_model_l1)"
   ]
  },
  {
   "cell_type": "code",
   "execution_count": 485,
   "metadata": {
    "colab": {},
    "colab_type": "code",
    "id": "De9HYtIGJklv"
   },
   "outputs": [
    {
     "name": "stdout",
     "output_type": "stream",
     "text": [
      "+-------------+---------------------+-----------+---------------+--------------------+\n",
      "| Vectorizer  |        Model        | Regulizer |       C       |        AUC         |\n",
      "+-------------+---------------------+-----------+---------------+--------------------+\n",
      "|     BOW     | Logistic-Regression |     L1    | 1.10517091808 | 0.9671022116862358 |\n",
      "|     BOW     | Logistic-Regression |     L2    | 12.1824939607 | 0.9581805685724827 |\n",
      "|    TF-IDF   | Logistic-Regression |     L1    | 1.10517091808 | 0.9667498169151043 |\n",
      "|    TF-IDF   | Logistic-Regression |     L2    | 12.1824939607 | 0.9579145964255309 |\n",
      "|  TF-IDF-W2V | Logistic-Regression |     L1    | 0.00408677143 | 0.8729727007119638 |\n",
      "|  TF-IDF-W2V | Logistic-Regression |     L2    | 0.00408677143 | 0.8836113925756649 |\n",
      "|   AVG-W2V   | Logistic-Regression |     L1    | 0.00408677143 | 0.9020247792569147 |\n",
      "|   AVG-W2V   | Logistic-Regression |     L2    | 0.08208499862 | 0.9131158695219719 |\n",
      "+-------------+---------------------+-----------+---------------+--------------------+\n"
     ]
    }
   ],
   "source": [
    "#Source : http://zetcode.com/python/prettytable/\n",
    "\n",
    "x = PrettyTable()\n",
    "\n",
    "x.field_names = [\"Vectorizer \", \"Model\", \"Regulizer\" ,\"C\", \"AUC\"]\n",
    "\n",
    "x.add_row([\"BOW\", \"Logistic-Regression\",\"L1\",1.10517091808,0.9671022116862358])\n",
    "x.add_row([\"BOW\", \"Logistic-Regression\",\"L2\",12.1824939607, 0.9581805685724827])\n",
    "x.add_row([\"TF-IDF\", \"Logistic-Regression\",\"L1\",1.10517091808, 0.9667498169151043])\n",
    "x.add_row([\"TF-IDF\", \"Logistic-Regression\",\"L2\",12.1824939607 , 0.9579145964255309])\n",
    "x.add_row([\"TF-IDF-W2V\", \"Logistic-Regression\",\"L1\",0.00408677143, 0.8729727007119638])\n",
    "x.add_row([\"TF-IDF-W2V\", \"Logistic-Regression\",\"L2\",0.00408677143, 0.8836113925756649])\n",
    "x.add_row([\"AVG-W2V\", \"Logistic-Regression\",\"L1\",0.00408677143, 0.9020247792569147])\n",
    "x.add_row([\"AVG-W2V\", \"Logistic-Regression\",\"L2\",0.08208499862, 0.9131158695219719])\n",
    "\n",
    "\n",
    "print(x)"
   ]
  },
  {
   "cell_type": "markdown",
   "metadata": {},
   "source": [
    "Observations :\n",
    "\n",
    "\n",
    "1. The optimal value of c varied between 0.004 to 12.1 for both L1 and L2 Regulizer.\n",
    "\n",
    "2. The  Model Performance was found to be better using either BOW/TF-IDF than AvgW2V/TF-IDF-W2V as can been see from AUC values from above table and FN Values from the confusion matrix.\n",
    "\n",
    "3. The threshold where there was a change in weight in case of BOW using l2 regulizer was found to be 99.8% when checking for multicolinearity and 77 features where found."
   ]
  }
 ],
 "metadata": {
  "colab": {
   "name": "04 Amazon Fine Food Reviews Analysis_NaiveBayes.ipynb",
   "provenance": [],
   "version": "0.3.2"
  },
  "kernelspec": {
   "display_name": "Python 3",
   "language": "python",
   "name": "python3"
  },
  "language_info": {
   "codemirror_mode": {
    "name": "ipython",
    "version": 3
   },
   "file_extension": ".py",
   "mimetype": "text/x-python",
   "name": "python",
   "nbconvert_exporter": "python",
   "pygments_lexer": "ipython3",
   "version": "3.5.3"
  }
 },
 "nbformat": 4,
 "nbformat_minor": 1
}
